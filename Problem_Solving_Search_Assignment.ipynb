{
  "nbformat": 4,
  "nbformat_minor": 0,
  "metadata": {
    "colab": {
      "provenance": []
    },
    "kernelspec": {
      "name": "python3",
      "display_name": "Python 3"
    }
  },
  "cells": [
    {
      "cell_type": "code",
      "metadata": {
        "id": "Gbe5KqWcISTq"
      },
      "source": [
        "import random\n",
        "import heapq"
      ],
      "execution_count": null,
      "outputs": []
    },
    {
      "cell_type": "markdown",
      "metadata": {
        "id": "PHnbnN2uV8zr"
      },
      "source": [
        "# Tile Sliding Domain: Initial State Space"
      ]
    },
    {
      "cell_type": "code",
      "metadata": {
        "id": "jPCNOa4W-5yq"
      },
      "source": [
        "StateDimension=3\n",
        "InitialState = [1,2,3,4,5,6,0,7,8]\n",
        "GoalState=[1,2,3,4,5,6,7,8,0]\n",
        "Actions = lambda s: ['u', 'd', 'l', 'r']\n",
        "Opposite=dict([('u','d'),('d','u'),('l','r'),('r','l'), (None, None)])"
      ],
      "execution_count": null,
      "outputs": []
    },
    {
      "cell_type": "code",
      "metadata": {
        "id": "XjnzkkC8_HE8"
      },
      "source": [
        "def Result(state, action):\n",
        "  i = state.index(0)\n",
        "  newState = list(state)\n",
        "  row,col=i//StateDimension, i % StateDimension\n",
        "  if ( (action=='u' and row==0) or\n",
        "       (action=='d' and row==StateDimension-1) or\n",
        "       (action=='l' and col==0) or\n",
        "       (action=='r' and col==StateDimension-1)):\n",
        "      return newState\n",
        "  if action=='u':\n",
        "    l,r = row*StateDimension+col, (row-1)*StateDimension+col\n",
        "  elif action=='d':\n",
        "    l,r = row*StateDimension+col, (row+1)*StateDimension+col\n",
        "  elif action=='l':\n",
        "    l,r = row*StateDimension+col, row*StateDimension+col-1\n",
        "  elif action=='r' :\n",
        "    l,r = row*StateDimension+col, row*StateDimension+col+1\n",
        "  newState[l], newState[r] = newState[r], newState[l]\n",
        "  return newState\n",
        "\n",
        "def PrintState(s):\n",
        "  for i in range(0,len(s),StateDimension):\n",
        "    print(s[i:i+StateDimension])\n",
        "\n",
        "def LegalMove(state, action):\n",
        "  i = state.index(0)\n",
        "  row,col=i//StateDimension, i % StateDimension\n",
        "  newState = state.copy()\n",
        "  if ( (action=='u' and row==0) or\n",
        "       (action=='d' and row==StateDimension-1) or\n",
        "       (action=='l' and col==0) or\n",
        "       (action=='r' and col==StateDimension-1)):\n",
        "      return False\n",
        "  return True\n"
      ],
      "execution_count": null,
      "outputs": []
    },
    {
      "cell_type": "code",
      "metadata": {
        "id": "4z6hE5HsNwHf"
      },
      "source": [
        "def SingleTileManhattanDistance(tile, left, right):\n",
        "  leftIndex = left.index(tile)\n",
        "  rightIndex = right.index(tile)\n",
        "  return (abs(leftIndex//StateDimension-rightIndex//StateDimension) +\n",
        "          abs(leftIndex%StateDimension-rightIndex%StateDimension))\n",
        "\n",
        "def ManhattanDistance(left, right):\n",
        "  distances = [SingleTileManhattanDistance(tile, left, right)\n",
        "     for tile in range(1, StateDimension**2)]\n",
        "  ### print (\"Distances= \", distances)\n",
        "  return sum(distances)\n"
      ],
      "execution_count": null,
      "outputs": []
    },
    {
      "cell_type": "code",
      "metadata": {
        "id": "7PE_gAdLSY_z"
      },
      "source": [
        "def OutOfPlace(left, right):\n",
        "  distances = [left[i]!=right[i] and right[i] != 0\n",
        "     for i in range(StateDimension**2)]\n",
        "  return sum(distances)"
      ],
      "execution_count": null,
      "outputs": []
    },
    {
      "cell_type": "code",
      "metadata": {
        "colab": {
          "base_uri": "https://localhost:8080/"
        },
        "id": "bE7MrTAI_t6i",
        "outputId": "b7fda2f5-df61-41bf-ea49-ee727928bd4a"
      },
      "source": [
        "PrintState(InitialState)"
      ],
      "execution_count": null,
      "outputs": [
        {
          "output_type": "stream",
          "name": "stdout",
          "text": [
            "[1, 2, 3]\n",
            "[4, 5, 6]\n",
            "[0, 7, 8]\n"
          ]
        }
      ]
    },
    {
      "cell_type": "code",
      "metadata": {
        "colab": {
          "base_uri": "https://localhost:8080/"
        },
        "id": "wRULKFeXVcp3",
        "outputId": "564a3c62-be2a-49d1-b710-e87ee1eab971"
      },
      "source": [
        "PrintState(GoalState)"
      ],
      "execution_count": null,
      "outputs": [
        {
          "output_type": "stream",
          "name": "stdout",
          "text": [
            "[1, 2, 3]\n",
            "[4, 5, 6]\n",
            "[7, 8, 0]\n"
          ]
        }
      ]
    },
    {
      "cell_type": "code",
      "metadata": {
        "colab": {
          "base_uri": "https://localhost:8080/"
        },
        "id": "Ke12RA7cPaS9",
        "outputId": "0a78a1dd-ca29-41fc-a1c5-db3edf13a39b"
      },
      "source": [
        "print(\"ManhattanDistance=  \", ManhattanDistance(InitialState, GoalState))\n",
        "print(\"OutOfPlace= \", OutOfPlace(InitialState, GoalState))\n"
      ],
      "execution_count": null,
      "outputs": [
        {
          "output_type": "stream",
          "name": "stdout",
          "text": [
            "ManhattanDistance=   2\n",
            "OutOfPlace=  2\n"
          ]
        }
      ]
    },
    {
      "cell_type": "code",
      "metadata": {
        "colab": {
          "base_uri": "https://localhost:8080/"
        },
        "id": "j-EYW_gqGZtl",
        "outputId": "ffb96323-991e-402b-afc9-e3a46b24be40"
      },
      "source": [
        "PrintState(InitialState)\n",
        "print()\n",
        "state1 = Result(InitialState, 'u')\n",
        "PrintState(state1)\n",
        "print()\n",
        "state1 = Result(state1, 'r')\n",
        "PrintState(state1)"
      ],
      "execution_count": null,
      "outputs": [
        {
          "output_type": "stream",
          "name": "stdout",
          "text": [
            "[1, 2, 3]\n",
            "[4, 5, 6]\n",
            "[0, 7, 8]\n",
            "\n",
            "[1, 2, 3]\n",
            "[0, 5, 6]\n",
            "[4, 7, 8]\n",
            "\n",
            "[1, 2, 3]\n",
            "[5, 0, 6]\n",
            "[4, 7, 8]\n"
          ]
        }
      ]
    },
    {
      "cell_type": "markdown",
      "metadata": {
        "id": "Mp0tnomdTFoC"
      },
      "source": [
        "# Random Walk\n",
        "\n",
        "Take some random moves from a state and return the new state and the sequence of moves.\n",
        "\n",
        "Do not include moves undoing last move, or having no effect."
      ]
    },
    {
      "cell_type": "code",
      "metadata": {
        "id": "1RVh0-S9IFiy"
      },
      "source": [
        "def RandomWalk(state, steps):\n",
        "  actionSequence = []\n",
        "  actionLast = None\n",
        "  for i in range(steps):\n",
        "    action = None\n",
        "    while action==None:\n",
        "      action = random.choice(Actions(state))\n",
        "      action = action if (LegalMove(state, action)\n",
        "          and action!= Opposite[actionLast]) else None\n",
        "    actionLast = action\n",
        "    state = Result(state, action)\n",
        "    actionSequence.append(action)\n",
        "  return state, actionSequence\n",
        "\n"
      ],
      "execution_count": null,
      "outputs": []
    },
    {
      "cell_type": "code",
      "metadata": {
        "colab": {
          "base_uri": "https://localhost:8080/"
        },
        "id": "wcn5POkxKlER",
        "outputId": "f89e97ca-7180-44bd-d080-7a3b90c97b3c"
      },
      "source": [
        "state1, sol = RandomWalk(InitialState, 150)\n",
        "PrintState(state1)\n",
        "print (ManhattanDistance(state1, GoalState), sol)\n",
        "\n",
        "state1, sol = RandomWalk(InitialState, 5)\n",
        "PrintState(InitialState)\n",
        "print (sol)\n",
        "PrintState(state1)"
      ],
      "execution_count": null,
      "outputs": [
        {
          "output_type": "stream",
          "name": "stdout",
          "text": [
            "[0, 1, 3]\n",
            "[4, 8, 6]\n",
            "[5, 7, 2]\n",
            "8 ['r', 'u', 'u', 'r', 'd', 'd', 'l', 'u', 'l', 'd', 'r', 'r', 'u', 'u', 'l', 'l', 'd', 'r', 'd', 'l', 'u', 'u', 'r', 'r', 'd', 'l', 'u', 'r', 'd', 'l', 'u', 'r', 'd', 'd', 'l', 'l', 'u', 'r', 'u', 'l', 'd', 'd', 'r', 'r', 'u', 'l', 'u', 'r', 'd', 'd', 'l', 'l', 'u', 'u', 'r', 'r', 'd', 'l', 'l', 'd', 'r', 'r', 'u', 'l', 'u', 'l', 'd', 'd', 'r', 'u', 'r', 'd', 'l', 'l', 'u', 'r', 'u', 'r', 'd', 'd', 'l', 'l', 'u', 'u', 'r', 'd', 'l', 'u', 'r', 'r', 'd', 'l', 'u', 'r', 'd', 'l', 'l', 'd', 'r', 'r', 'u', 'u', 'l', 'd', 'l', 'd', 'r', 'r', 'u', 'l', 'l', 'd', 'r', 'u', 'l', 'd', 'r', 'r', 'u', 'u', 'l', 'l', 'd', 'd', 'r', 'r', 'u', 'u', 'l', 'l', 'd', 'd', 'r', 'r', 'u', 'l', 'l', 'd', 'r', 'u', 'l', 'd', 'r', 'r', 'u', 'l', 'd', 'l', 'u', 'u']\n",
            "[1, 2, 3]\n",
            "[4, 5, 6]\n",
            "[0, 7, 8]\n",
            "['u', 'u', 'r', 'd', 'd']\n",
            "[2, 5, 3]\n",
            "[1, 7, 6]\n",
            "[4, 0, 8]\n"
          ]
        }
      ]
    },
    {
      "cell_type": "code",
      "metadata": {
        "id": "Rc_8ohYvNIq-"
      },
      "source": [
        "def ApplyMoves(actions, state):\n",
        "  for action in actions:\n",
        "    state = Result(state, action)\n",
        "  return state"
      ],
      "execution_count": null,
      "outputs": []
    },
    {
      "cell_type": "code",
      "metadata": {
        "colab": {
          "base_uri": "https://localhost:8080/"
        },
        "id": "Wv7MGqh8NXqy",
        "outputId": "1ed13035-a226-4ffc-b6c9-2b325ffafa6c"
      },
      "source": [
        "PrintState(InitialState)\n",
        "print(['r','r'])\n",
        "PrintState(ApplyMoves(['r','r'],InitialState))"
      ],
      "execution_count": null,
      "outputs": [
        {
          "output_type": "stream",
          "name": "stdout",
          "text": [
            "[1, 2, 3]\n",
            "[4, 5, 6]\n",
            "[0, 7, 8]\n",
            "['r', 'r']\n",
            "[1, 2, 3]\n",
            "[4, 5, 6]\n",
            "[7, 8, 0]\n"
          ]
        }
      ]
    },
    {
      "cell_type": "code",
      "metadata": {
        "id": "_VS2KzQbOHlO"
      },
      "source": [
        "def ReverseMoves(actions):\n",
        "  ret = [Opposite[a] for a in actions]\n",
        "  ret.reverse()\n",
        "  return ret"
      ],
      "execution_count": null,
      "outputs": []
    },
    {
      "cell_type": "code",
      "metadata": {
        "colab": {
          "base_uri": "https://localhost:8080/"
        },
        "id": "tp_pqYBXOsqS",
        "outputId": "66a00c0f-9997-493a-d4eb-cb9d38fcadf7"
      },
      "source": [
        "state1, sol = RandomWalk(GoalState, 5)\n",
        "PrintState(state1)\n",
        "print (sol)\n",
        "print(ReverseMoves(sol))\n",
        "PrintState (ApplyMoves(ReverseMoves(sol), state1))\n"
      ],
      "execution_count": null,
      "outputs": [
        {
          "output_type": "stream",
          "name": "stdout",
          "text": [
            "[1, 2, 3]\n",
            "[7, 4, 6]\n",
            "[5, 0, 8]\n",
            "['l', 'u', 'l', 'd', 'r']\n",
            "['l', 'u', 'r', 'd', 'r']\n",
            "[1, 2, 3]\n",
            "[4, 5, 6]\n",
            "[7, 8, 0]\n"
          ]
        }
      ]
    },
    {
      "cell_type": "markdown",
      "metadata": {
        "id": "8ABBDMJLROdo"
      },
      "source": [
        "## Problem Class\n",
        "\n",
        "INITIAL = InitialState  \n",
        "IsGoal = Goal Test  \n",
        "Actions = Actions List  \n",
        "Result = Action Behavior  \n",
        "ActionCost = Action Cost  "
      ]
    },
    {
      "cell_type": "code",
      "metadata": {
        "id": "fo6sq7myRQpE"
      },
      "source": [
        "class Problem(object): pass"
      ],
      "execution_count": null,
      "outputs": []
    },
    {
      "cell_type": "markdown",
      "metadata": {
        "id": "aAHXlWteQ2LN"
      },
      "source": [
        "## Node"
      ]
    },
    {
      "cell_type": "code",
      "metadata": {
        "id": "URRYlfS9Q3vx"
      },
      "source": [
        "class Node(object):\n",
        "  def __init__(self, state, parent=None, action=None, path_cost=0 ):\n",
        "    self.State=state\n",
        "    self.Parent=parent\n",
        "    self.Action=action\n",
        "    self.PathCost = path_cost\n",
        "\n",
        "  def __str__(self):\n",
        "    action = \"<none>\" if not self.Action else self.Action\n",
        "    return str(self.State) + \", \" + action\n",
        "  def __repr__(self):\n",
        "    action = \"<none>\" if not self.Action else self.Action\n",
        "    return str(self.State) + \", \" + action\n",
        "  def __lt__(self, other):\n",
        "    return self.PathCost < other.PathCost;"
      ],
      "execution_count": null,
      "outputs": []
    },
    {
      "cell_type": "markdown",
      "metadata": {
        "id": "LpzKnx4rkxL9"
      },
      "source": [
        "## Expand"
      ]
    },
    {
      "cell_type": "code",
      "metadata": {
        "id": "CRj9UnyHdDo_"
      },
      "source": [
        "def Expand(problem, node):\n",
        "  ret = []\n",
        "  s = node.State\n",
        "  for action in problem.Actions(s):\n",
        "    sPrime = problem.Result(s, action)\n",
        "    cost =node.PathCost + problem.ActionCost(s,action,sPrime)\n",
        "    ret.append(Node(sPrime, node, action, cost))\n",
        "  return ret\n"
      ],
      "execution_count": null,
      "outputs": []
    },
    {
      "cell_type": "markdown",
      "metadata": {
        "id": "Ee2ZYxjVlBSl"
      },
      "source": [
        "## Breadth-First Search"
      ]
    },
    {
      "cell_type": "code",
      "metadata": {
        "id": "DZoCxoGzkt4E"
      },
      "source": [
        "def BreadthFirstSearch(problem):\n",
        "  node = Node(tuple(problem.INITIAL))\n",
        "  if problem.IsGoal(node.State):\n",
        "    return node, 0\n",
        "  Frontier = []\n",
        "  Frontier.append(node)\n",
        "  reached = set()\n",
        "  reached.add(tuple(problem.INITIAL))\n",
        "  nodesExpanded = 0\n",
        "  while (Frontier):\n",
        "    ### print([str(n) for n in Frontier])\n",
        "    node = Frontier.pop(0)\n",
        "    ### print(node)\n",
        "    for child in Expand(problem, node):\n",
        "      s = tuple(child.State)\n",
        "      ### print (s, \"IsGoal=\", problem.IsGoal(s))\n",
        "      if problem.IsGoal(s):\n",
        "        return child, nodesExpanded\n",
        "      if s not in reached:\n",
        "        reached.add(s)\n",
        "        Frontier.append(child)\n",
        "    nodesExpanded += 1\n",
        "    if nodesExpanded > 500000:\n",
        "      break;\n",
        "  return None, nodesExpanded"
      ],
      "execution_count": null,
      "outputs": []
    },
    {
      "cell_type": "markdown",
      "metadata": {
        "id": "AoX48XG6lFOf"
      },
      "source": [
        "## Best-First Search"
      ]
    },
    {
      "cell_type": "code",
      "metadata": {
        "id": "lUIAdr_qa1KT"
      },
      "source": [
        "def BestFirstSearch(problem, f):\n",
        "  node = Node(tuple(problem.INITIAL))\n",
        "  Frontier = []\n",
        "  heapq.heappush(Frontier,(f(node), node))\n",
        "  reached = {}\n",
        "  reached[tuple(problem.INITIAL)]=node\n",
        "  nodesExpanded = 0\n",
        "  while (Frontier):\n",
        "    ##print([(x, str(n)) for (x,n) in Frontier])\n",
        "    fValue, node = heapq.heappop(Frontier)\n",
        "    ##print (node.State, \"IsGoal=\", problem.IsGoal(tuple(node.State)))\n",
        "    if problem.IsGoal(tuple(node.State)):\n",
        "      return node, nodesExpanded    ### print(node)\n",
        "    for child in Expand(problem, node):\n",
        "      s = tuple(child.State)\n",
        "      if s not in reached or child.PathCost < reached[s].PathCost:\n",
        "        reached[s] = child\n",
        "        heapq.heappush(Frontier, (f(child), child))\n",
        "    nodesExpanded += 1\n",
        "    if nodesExpanded > 500000:\n",
        "      break;\n",
        "  return None, nodesExpanded"
      ],
      "execution_count": null,
      "outputs": []
    },
    {
      "cell_type": "markdown",
      "metadata": {
        "id": "kRjolRYslOa4"
      },
      "source": [
        "## Problem 1"
      ]
    },
    {
      "cell_type": "code",
      "metadata": {
        "colab": {
          "base_uri": "https://localhost:8080/"
        },
        "id": "dLWDIbmsRGY3",
        "outputId": "ae5a0b54-6722-4623-9553-16213f2dd5ca"
      },
      "source": [
        "TileSliding = Problem()\n",
        "TileSliding.INITIAL = InitialState\n",
        "TileSliding.IsGoal = lambda s: s==(1,2,3,4,5,6,7,8,0)\n",
        "TileSliding.Actions = Actions\n",
        "TileSliding.Result=Result\n",
        "TileSliding.ActionCost = lambda s, a, sPrime: 1\n",
        "print( TileSliding.IsGoal((1,2,3,4,5,6,7,8,0)) )\n",
        "print( Node(InitialState) )\n",
        "print(1+TileSliding.ActionCost(1,2,3))"
      ],
      "execution_count": null,
      "outputs": [
        {
          "output_type": "stream",
          "name": "stdout",
          "text": [
            "True\n",
            "[1, 2, 3, 4, 5, 6, 0, 7, 8], <none>\n",
            "2\n"
          ]
        }
      ]
    },
    {
      "cell_type": "code",
      "metadata": {
        "colab": {
          "base_uri": "https://localhost:8080/"
        },
        "id": "6VoIEO4c1gHz",
        "outputId": "46f9f8e1-649b-409d-8fd8-c6a6c050f08a"
      },
      "source": [
        "TileSliding.INITIAL = [1,2,3,4,5,6,0,7,8]\n",
        "ret, cost = BreadthFirstSearch(TileSliding)\n",
        "print (ret, cost)"
      ],
      "execution_count": null,
      "outputs": [
        {
          "output_type": "stream",
          "name": "stdout",
          "text": [
            "[1, 2, 3, 4, 5, 6, 7, 8, 0], r 2\n"
          ]
        }
      ]
    },
    {
      "cell_type": "code",
      "metadata": {
        "id": "3hsBKY7Fle3w"
      },
      "source": [
        "def Solution(node):\n",
        "  if node.Parent==None:\n",
        "    return []\n",
        "  return Solution(node.Parent) + [node.Action]\n"
      ],
      "execution_count": null,
      "outputs": []
    },
    {
      "cell_type": "code",
      "metadata": {
        "colab": {
          "base_uri": "https://localhost:8080/"
        },
        "id": "rtr7Vr84NAfY",
        "outputId": "18b1cbd2-34ec-4538-deaf-cb6eca736535"
      },
      "source": [
        "sol = Solution(ret)\n",
        "print (sol)\n",
        "print (TileSliding.INITIAL)\n",
        "print (ApplyMoves(sol, TileSliding.INITIAL))"
      ],
      "execution_count": null,
      "outputs": [
        {
          "output_type": "stream",
          "name": "stdout",
          "text": [
            "['r', 'r']\n",
            "[1, 2, 3, 4, 5, 6, 0, 7, 8]\n",
            "[1, 2, 3, 4, 5, 6, 7, 8, 0]\n"
          ]
        }
      ]
    },
    {
      "cell_type": "code",
      "metadata": {
        "colab": {
          "base_uri": "https://localhost:8080/"
        },
        "id": "RDE3dNP8NOU7",
        "outputId": "a49f2a37-a445-43e7-d1a4-2c65a600a3e6"
      },
      "source": [
        "TileSliding.INITIAL = [1,2,3,4,0,6,7,5,8]\n",
        "ret, cost = BreadthFirstSearch(TileSliding)\n",
        "print (ret, cost)"
      ],
      "execution_count": null,
      "outputs": [
        {
          "output_type": "stream",
          "name": "stdout",
          "text": [
            "[1, 2, 3, 4, 5, 6, 7, 8, 0], r 2\n"
          ]
        }
      ]
    },
    {
      "cell_type": "code",
      "metadata": {
        "colab": {
          "base_uri": "https://localhost:8080/"
        },
        "id": "YBkLupiYNyZ_",
        "outputId": "24a4dc2b-b8f1-44a8-ce00-d3aa47601791"
      },
      "source": [
        "sol = Solution(ret)\n",
        "print (sol)\n",
        "print (TileSliding.INITIAL)\n",
        "print (ApplyMoves(sol, TileSliding.INITIAL))"
      ],
      "execution_count": null,
      "outputs": [
        {
          "output_type": "stream",
          "name": "stdout",
          "text": [
            "['d', 'r']\n",
            "[1, 2, 3, 4, 0, 6, 7, 5, 8]\n",
            "[1, 2, 3, 4, 5, 6, 7, 8, 0]\n"
          ]
        }
      ]
    },
    {
      "cell_type": "code",
      "metadata": {
        "colab": {
          "base_uri": "https://localhost:8080/"
        },
        "id": "GXdlMLxwhxMF",
        "outputId": "c5ad9dd0-5106-41f5-a456-586facceab18"
      },
      "source": [
        "UniformCostF = lambda n: n.PathCost\n",
        "AStarF = lambda n: n.PathCost+ManhattanDistance(n.State, GoalState)\n",
        "TileSliding.INITIAL = [1,2,3,4,0,6,7,5,8]\n",
        "ret, cost = BestFirstSearch(TileSliding, UniformCostF)\n",
        "print (ret)\n",
        "sol = Solution(ret)\n",
        "print (sol)\n",
        "print (TileSliding.INITIAL)\n",
        "print (ApplyMoves(sol, TileSliding.INITIAL))\n",
        "print (\"Nodes Expanded=\", cost)"
      ],
      "execution_count": null,
      "outputs": [
        {
          "output_type": "stream",
          "name": "stdout",
          "text": [
            "[1, 2, 3, 4, 5, 6, 7, 8, 0], r\n",
            "['d', 'r']\n",
            "[1, 2, 3, 4, 0, 6, 7, 5, 8]\n",
            "[1, 2, 3, 4, 5, 6, 7, 8, 0]\n",
            "Nodes Expanded= 8\n"
          ]
        }
      ]
    },
    {
      "cell_type": "code",
      "source": [],
      "metadata": {
        "id": "zO6lhjjgPv4K"
      },
      "execution_count": null,
      "outputs": []
    },
    {
      "cell_type": "markdown",
      "metadata": {
        "id": "bu6svMo0n9Pc"
      },
      "source": [
        "# Problem 2"
      ]
    },
    {
      "cell_type": "code",
      "metadata": {
        "colab": {
          "base_uri": "https://localhost:8080/"
        },
        "id": "rXzEVLYEn8m1",
        "outputId": "4b04d335-6889-486f-e1ee-dfac8e87fdcc"
      },
      "source": [
        "state1, sol = RandomWalk(GoalState, 300)\n",
        "PrintState(state1)\n",
        "print (sol)\n",
        "print(ReverseMoves(sol))\n",
        "PrintState (ApplyMoves(ReverseMoves(sol), state1))"
      ],
      "execution_count": null,
      "outputs": [
        {
          "output_type": "stream",
          "name": "stdout",
          "text": [
            "[1, 4, 8]\n",
            "[7, 0, 2]\n",
            "[3, 6, 5]\n",
            "['u', 'l', 'u', 'r', 'd', 'l', 'l', 'd', 'r', 'u', 'u', 'l', 'd', 'r', 'r', 'd', 'l', 'l', 'u', 'u', 'r', 'r', 'd', 'l', 'u', 'r', 'd', 'l', 'u', 'l', 'd', 'r', 'u', 'r', 'd', 'l', 'u', 'r', 'd', 'd', 'l', 'u', 'u', 'l', 'd', 'r', 'u', 'r', 'd', 'd', 'l', 'u', 'l', 'd', 'r', 'u', 'l', 'd', 'r', 'r', 'u', 'u', 'l', 'l', 'd', 'd', 'r', 'r', 'u', 'l', 'u', 'r', 'd', 'd', 'l', 'u', 'l', 'u', 'r', 'd', 'l', 'u', 'r', 'r', 'd', 'l', 'd', 'l', 'u', 'u', 'r', 'r', 'd', 'd', 'l', 'u', 'u', 'l', 'd', 'd', 'r', 'r', 'u', 'l', 'd', 'r', 'u', 'l', 'l', 'd', 'r', 'r', 'u', 'u', 'l', 'l', 'd', 'r', 'u', 'l', 'd', 'r', 'd', 'r', 'u', 'u', 'l', 'd', 'r', 'd', 'l', 'u', 'r', 'd', 'l', 'l', 'u', 'u', 'r', 'd', 'd', 'r', 'u', 'u', 'l', 'd', 'd', 'l', 'u', 'r', 'r', 'd', 'l', 'u', 'l', 'd', 'r', 'r', 'u', 'u', 'l', 'l', 'd', 'd', 'r', 'u', 'r', 'u', 'l', 'd', 'l', 'd', 'r', 'r', 'u', 'u', 'l', 'd', 'd', 'l', 'u', 'u', 'r', 'r', 'd', 'd', 'l', 'u', 'u', 'r', 'd', 'l', 'l', 'u', 'r', 'r', 'd', 'l', 'd', 'r', 'u', 'u', 'l', 'l', 'd', 'd', 'r', 'r', 'u', 'u', 'l', 'd', 'd', 'r', 'u', 'u', 'l', 'd', 'l', 'd', 'r', 'u', 'u', 'l', 'd', 'r', 'r', 'u', 'l', 'l', 'd', 'd', 'r', 'r', 'u', 'u', 'l', 'l', 'd', 'r', 'd', 'l', 'u', 'u', 'r', 'r', 'd', 'l', 'l', 'u', 'r', 'r', 'd', 'l', 'd', 'l', 'u', 'u', 'r', 'd', 'r', 'd', 'l', 'u', 'r', 'd', 'l', 'l', 'u', 'r', 'd', 'l', 'u', 'r', 'u', 'l', 'd', 'd', 'r', 'u', 'l', 'd', 'r', 'r', 'u', 'l', 'd', 'l', 'u', 'r', 'u', 'r', 'd', 'd', 'l', 'u', 'r', 'u', 'l', 'd']\n",
            "['u', 'r', 'd', 'l', 'd', 'r', 'u', 'u', 'l', 'd', 'l', 'd', 'r', 'u', 'r', 'd', 'l', 'l', 'u', 'r', 'd', 'l', 'u', 'u', 'r', 'd', 'l', 'd', 'r', 'u', 'l', 'd', 'r', 'r', 'u', 'l', 'd', 'r', 'u', 'l', 'u', 'l', 'd', 'd', 'r', 'u', 'r', 'u', 'l', 'l', 'd', 'r', 'r', 'u', 'l', 'l', 'd', 'd', 'r', 'u', 'l', 'u', 'r', 'r', 'd', 'd', 'l', 'l', 'u', 'u', 'r', 'r', 'd', 'l', 'l', 'u', 'r', 'd', 'd', 'l', 'u', 'r', 'u', 'r', 'd', 'd', 'l', 'u', 'u', 'r', 'd', 'd', 'l', 'l', 'u', 'u', 'r', 'r', 'd', 'd', 'l', 'u', 'r', 'u', 'l', 'l', 'd', 'r', 'r', 'u', 'l', 'd', 'd', 'r', 'u', 'u', 'l', 'l', 'd', 'd', 'r', 'u', 'u', 'r', 'd', 'd', 'l', 'l', 'u', 'r', 'u', 'r', 'd', 'l', 'd', 'l', 'u', 'u', 'r', 'r', 'd', 'd', 'l', 'l', 'u', 'r', 'd', 'r', 'u', 'l', 'l', 'd', 'r', 'u', 'u', 'r', 'd', 'd', 'l', 'u', 'u', 'l', 'd', 'd', 'r', 'r', 'u', 'l', 'd', 'r', 'u', 'l', 'u', 'r', 'd', 'd', 'l', 'u', 'l', 'u', 'r', 'd', 'l', 'u', 'r', 'r', 'd', 'd', 'l', 'l', 'u', 'r', 'r', 'd', 'l', 'u', 'r', 'd', 'l', 'l', 'u', 'u', 'r', 'd', 'd', 'r', 'u', 'u', 'l', 'l', 'd', 'd', 'r', 'u', 'r', 'u', 'l', 'l', 'd', 'r', 'u', 'l', 'd', 'r', 'd', 'r', 'u', 'u', 'l', 'd', 'r', 'd', 'l', 'l', 'u', 'u', 'r', 'r', 'd', 'd', 'l', 'l', 'u', 'r', 'd', 'l', 'u', 'r', 'd', 'r', 'u', 'u', 'l', 'd', 'l', 'u', 'r', 'd', 'd', 'r', 'u', 'u', 'l', 'd', 'r', 'u', 'l', 'd', 'l', 'u', 'r', 'd', 'r', 'u', 'l', 'd', 'r', 'u', 'l', 'l', 'd', 'd', 'r', 'r', 'u', 'l', 'l', 'u', 'r', 'd', 'd', 'l', 'u', 'r', 'r', 'u', 'l', 'd', 'r', 'd']\n",
            "[1, 2, 3]\n",
            "[4, 5, 6]\n",
            "[7, 8, 0]\n"
          ]
        }
      ]
    },
    {
      "cell_type": "code",
      "metadata": {
        "colab": {
          "base_uri": "https://localhost:8080/"
        },
        "id": "tKnMcesqoCss",
        "outputId": "5146bd3f-2f45-4e09-82ec-2a17357e68b9"
      },
      "source": [
        "TileSliding.INITIAL = state1\n",
        "ret, cost = BreadthFirstSearch(TileSliding)\n",
        "print (ret)\n",
        "sol = Solution(ret)\n",
        "print (sol)\n",
        "print (TileSliding.INITIAL)\n",
        "print (ApplyMoves(sol, TileSliding.INITIAL))\n",
        "print (\"Length of solution: \", len(sol))\n",
        "print (\"Nodes Expanded=\", cost)"
      ],
      "execution_count": null,
      "outputs": [
        {
          "output_type": "stream",
          "name": "stdout",
          "text": [
            "[1, 2, 3, 4, 5, 6, 7, 8, 0], d\n",
            "['u', 'r', 'd', 'd', 'l', 'l', 'u', 'r', 'd', 'r', 'u', 'l', 'u', 'r', 'd', 'd', 'l', 'u', 'r', 'd']\n",
            "[1, 4, 8, 7, 0, 2, 3, 6, 5]\n",
            "[1, 2, 3, 4, 5, 6, 7, 8, 0]\n",
            "Length of solution:  20\n",
            "Nodes Expanded= 35182\n"
          ]
        }
      ]
    },
    {
      "cell_type": "code",
      "metadata": {
        "colab": {
          "base_uri": "https://localhost:8080/"
        },
        "id": "k24bl418eL5m",
        "outputId": "b6ebfa8f-76e6-4cb4-e637-d2bd690bc3b5"
      },
      "source": [
        "UniformCostF = lambda n: n.PathCost\n",
        "TileSliding.INITIAL = state1\n",
        "ret, cost = BestFirstSearch(TileSliding, UniformCostF)\n",
        "print (ret)\n",
        "sol = Solution(ret)\n",
        "print (sol)\n",
        "print (TileSliding.INITIAL)\n",
        "print (ApplyMoves(sol, TileSliding.INITIAL))\n",
        "print (\"Length of solution: \", len(sol))\n",
        "print (\"Nodes Expanded=\", cost)"
      ],
      "execution_count": null,
      "outputs": [
        {
          "output_type": "stream",
          "name": "stdout",
          "text": [
            "[1, 2, 3, 4, 5, 6, 7, 8, 0], d\n",
            "['u', 'r', 'd', 'd', 'l', 'l', 'u', 'r', 'd', 'r', 'u', 'l', 'u', 'r', 'd', 'd', 'l', 'u', 'r', 'd']\n",
            "[1, 4, 8, 7, 0, 2, 3, 6, 5]\n",
            "[1, 2, 3, 4, 5, 6, 7, 8, 0]\n",
            "Length of solution:  20\n",
            "Nodes Expanded= 58079\n"
          ]
        }
      ]
    },
    {
      "cell_type": "markdown",
      "metadata": {
        "id": "tdtWdXGlXFGG"
      },
      "source": [
        "# Problem List"
      ]
    },
    {
      "cell_type": "code",
      "metadata": {
        "colab": {
          "base_uri": "https://localhost:8080/"
        },
        "id": "iDhmyFXQXI3N",
        "outputId": "0093aaf5-98ec-4c5f-f3e3-c468efeea984"
      },
      "source": [
        "findNum = 10\n",
        "randomWalkDistance = 300\n",
        "problemList = []\n",
        "for i in range(10):\n",
        "  state1, sol = RandomWalk(GoalState, 300)\n",
        "  problemList.append(state1)\n",
        "print (problemList)"
      ],
      "execution_count": null,
      "outputs": [
        {
          "output_type": "stream",
          "name": "stdout",
          "text": [
            "[[6, 5, 4, 7, 0, 8, 1, 2, 3], [2, 1, 0, 7, 3, 5, 4, 6, 8], [2, 7, 0, 6, 3, 8, 5, 1, 4], [2, 8, 6, 4, 7, 5, 0, 1, 3], [0, 3, 2, 7, 5, 4, 6, 8, 1], [0, 1, 2, 7, 4, 5, 8, 3, 6], [4, 7, 2, 5, 0, 1, 3, 8, 6], [6, 3, 2, 5, 8, 7, 4, 1, 0], [1, 7, 4, 8, 3, 5, 0, 6, 2], [5, 3, 6, 4, 1, 7, 0, 2, 8]]\n"
          ]
        }
      ]
    },
    {
      "cell_type": "markdown",
      "metadata": {
        "id": "TpdrxwA8UvFn"
      },
      "source": [
        "### Breadth First Search w/ Test Problems"
      ]
    },
    {
      "cell_type": "code",
      "metadata": {
        "colab": {
          "base_uri": "https://localhost:8080/"
        },
        "id": "xrni2RRIXkfU",
        "outputId": "f534559a-2c1f-412c-e191-f40b4653ac4f"
      },
      "source": [
        "testProblems = [[5, 3, 0, 4, 7, 6, 2, 1, 8], [3, 2, 0, 1, 5, 4, 7, 8, 6], [0, 1, 3, 8, 5, 2, 6, 7, 4],\n",
        "                [3, 7, 6, 2, 4, 1, 8, 5, 0], [6, 7, 5, 8, 0, 1, 2, 3, 4], [7, 4, 6, 8, 0, 1, 3, 2, 5],\n",
        "                [0, 1, 8, 3, 5, 2, 6, 4, 7], [0, 4, 6, 5, 8, 1, 7, 2, 3], [1, 5, 7, 6, 0, 3, 4, 2, 8],\n",
        "                [0, 2, 4, 1, 7, 6, 3, 5, 8]]\n",
        "\n",
        "Solutions = []\n",
        "for s in testProblems:\n",
        "  TileSliding.INITIAL = s\n",
        "  ret, cost = BreadthFirstSearch(TileSliding)\n",
        "  sol = Solution(ret)\n",
        "  print (sol)\n",
        "  print (\"-----------------------\")\n",
        "  print (TileSliding.INITIAL,'\\n')\n",
        "  print (ApplyMoves(sol, TileSliding.INITIAL))\n",
        "  print (\"Length of solution: \", len(sol))\n",
        "  print (\"Nodes Expanded=\", cost)\n",
        "  print (\"-----------------------\")\n",
        "  Solutions.append((''.join(map(str, s)), ''.join(sol), cost))\n",
        "print (\"-------\")\n",
        "print (Solutions)\n"
      ],
      "execution_count": null,
      "outputs": [
        {
          "output_type": "stream",
          "name": "stdout",
          "text": [
            "['l', 'd', 'l', 'd', 'r', 'u', 'u', 'l', 'd', 'd', 'r', 'u', 'u', 'l', 'd', 'd', 'r', 'r']\n",
            "-----------------------\n",
            "[5, 3, 0, 4, 7, 6, 2, 1, 8] \n",
            "\n",
            "[1, 2, 3, 4, 5, 6, 7, 8, 0]\n",
            "Length of solution:  18\n",
            "Nodes Expanded= 15775\n",
            "-----------------------\n",
            "['l', 'd', 'r', 'u', 'l', 'l', 'd', 'r', 'r', 'u', 'l', 'd', 'r', 'd']\n",
            "-----------------------\n",
            "[3, 2, 0, 1, 5, 4, 7, 8, 6] \n",
            "\n",
            "[1, 2, 3, 4, 5, 6, 7, 8, 0]\n",
            "Length of solution:  14\n",
            "Nodes Expanded= 2645\n",
            "-----------------------\n",
            "['d', 'd', 'r', 'u', 'r', 'd', 'l', 'l', 'u', 'u', 'r', 'd', 'd', 'l', 'u', 'r', 'r', 'd', 'l', 'l', 'u', 'r', 'r', 'd']\n",
            "-----------------------\n",
            "[0, 1, 3, 8, 5, 2, 6, 7, 4] \n",
            "\n",
            "[1, 2, 3, 4, 5, 6, 7, 8, 0]\n",
            "Length of solution:  24\n",
            "Nodes Expanded= 99562\n",
            "-----------------------\n",
            "['u', 'l', 'u', 'l', 'd', 'r', 'r', 'u', 'l', 'd', 'd', 'r', 'u', 'l', 'd', 'l', 'u', 'r', 'u', 'l', 'd', 'r', 'r', 'd']\n",
            "-----------------------\n",
            "[3, 7, 6, 2, 4, 1, 8, 5, 0] \n",
            "\n",
            "[1, 2, 3, 4, 5, 6, 7, 8, 0]\n",
            "Length of solution:  24\n",
            "Nodes Expanded= 102839\n",
            "-----------------------\n",
            "['u', 'r', 'd', 'l', 'd', 'r', 'u', 'l', 'l', 'u', 'r', 'r', 'd', 'l', 'l', 'd', 'r', 'r', 'u', 'l', 'l', 'u', 'r', 'd', 'l', 'd', 'r', 'r']\n",
            "-----------------------\n",
            "[6, 7, 5, 8, 0, 1, 2, 3, 4] \n",
            "\n",
            "[1, 2, 3, 4, 5, 6, 7, 8, 0]\n",
            "Length of solution:  28\n",
            "Nodes Expanded= 176504\n",
            "-----------------------\n",
            "['d', 'l', 'u', 'u', 'r', 'd', 'r', 'u', 'l', 'd', 'd', 'r', 'u', 'l', 'd', 'l', 'u', 'u', 'r', 'r', 'd', 'd']\n",
            "-----------------------\n",
            "[7, 4, 6, 8, 0, 1, 3, 2, 5] \n",
            "\n",
            "[1, 2, 3, 4, 5, 6, 7, 8, 0]\n",
            "Length of solution:  22\n",
            "Nodes Expanded= 70228\n",
            "-----------------------\n",
            "['r', 'r', 'd', 'l', 'l', 'd', 'r', 'r', 'u', 'l', 'u', 'r', 'd', 'l', 'l', 'd', 'r', 'r', 'u', 'l', 'd', 'r']\n",
            "-----------------------\n",
            "[0, 1, 8, 3, 5, 2, 6, 4, 7] \n",
            "\n",
            "[1, 2, 3, 4, 5, 6, 7, 8, 0]\n",
            "Length of solution:  22\n",
            "Nodes Expanded= 71840\n",
            "-----------------------\n",
            "['r', 'r', 'd', 'l', 'd', 'r', 'u', 'l', 'u', 'r', 'd', 'l', 'd', 'r', 'u', 'l', 'l', 'u', 'r', 'r', 'd', 'd']\n",
            "-----------------------\n",
            "[0, 4, 6, 5, 8, 1, 7, 2, 3] \n",
            "\n",
            "[1, 2, 3, 4, 5, 6, 7, 8, 0]\n",
            "Length of solution:  22\n",
            "Nodes Expanded= 71233\n",
            "-----------------------\n",
            "['d', 'r', 'u', 'u', 'l', 'd', 'r', 'd', 'l', 'u', 'l', 'u', 'r', 'r', 'd', 'l', 'u', 'l', 'd', 'd', 'r', 'r']\n",
            "-----------------------\n",
            "[1, 5, 7, 6, 0, 3, 4, 2, 8] \n",
            "\n",
            "[1, 2, 3, 4, 5, 6, 7, 8, 0]\n",
            "Length of solution:  22\n",
            "Nodes Expanded= 72942\n",
            "-----------------------\n",
            "['d', 'd', 'r', 'u', 'l', 'd', 'r', 'r', 'u', 'l', 'l', 'u', 'r', 'r', 'd', 'l', 'u', 'l', 'd', 'r', 'r', 'd']\n",
            "-----------------------\n",
            "[0, 2, 4, 1, 7, 6, 3, 5, 8] \n",
            "\n",
            "[1, 2, 3, 4, 5, 6, 7, 8, 0]\n",
            "Length of solution:  22\n",
            "Nodes Expanded= 56648\n",
            "-----------------------\n",
            "-------\n",
            "[('530476218', 'ldldruulddruulddrr', 15775), ('320154786', 'ldrulldrruldrd', 2645), ('013852674', 'ddrurdlluurddlurrdllurrd', 99562), ('376241850', 'ululdrrulddruldluruldrrd', 102839), ('675801234', 'urdldrullurrdlldrrullurdldrr', 176504), ('746801325', 'dluurdrulddruldluurrdd', 70228), ('018352647', 'rrdlldrrulurdlldrruldr', 71840), ('046581723', 'rrdldrulurdldrullurrdd', 71233), ('157603428', 'druuldrdlulurrdlulddrr', 72942), ('024176358', 'ddruldrrullurrdluldrrd', 56648)]\n"
          ]
        }
      ]
    },
    {
      "cell_type": "markdown",
      "metadata": {
        "id": "YLVN3sTkU0jw"
      },
      "source": [
        "### Uniform Cost Search w/ Test Problems"
      ]
    },
    {
      "cell_type": "code",
      "metadata": {
        "colab": {
          "base_uri": "https://localhost:8080/"
        },
        "id": "LsWVfbeLRYfO",
        "outputId": "7fd4fdfa-4b81-46e3-ff0c-b316a38aaddd"
      },
      "source": [
        "UniformCostF = lambda n: n.PathCost\n",
        "testProblems = [[5, 3, 0, 4, 7, 6, 2, 1, 8], [3, 2, 0, 1, 5, 4, 7, 8, 6], [0, 1, 3, 8, 5, 2, 6, 7, 4],\n",
        "                [3, 7, 6, 2, 4, 1, 8, 5, 0], [6, 7, 5, 8, 0, 1, 2, 3, 4], [7, 4, 6, 8, 0, 1, 3, 2, 5],\n",
        "                [0, 1, 8, 3, 5, 2, 6, 4, 7], [0, 4, 6, 5, 8, 1, 7, 2, 3], [1, 5, 7, 6, 0, 3, 4, 2, 8],\n",
        "                [0, 2, 4, 1, 7, 6, 3, 5, 8]]\n",
        "\n",
        "Solutions = []\n",
        "for s in testProblems:\n",
        "  TileSliding.INITIAL = s\n",
        "  ret, cost = BestFirstSearch(TileSliding, UniformCostF)\n",
        "  sol = Solution(ret)\n",
        "  print (sol)\n",
        "  print (\"-----------------------\")\n",
        "  print (TileSliding.INITIAL,'\\n')\n",
        "  print (ApplyMoves(sol, TileSliding.INITIAL))\n",
        "  print (\"Length of solution: \", len(sol))\n",
        "  print (\"Nodes Expanded=\", cost)\n",
        "  print (\"-----------------------\")\n",
        "  Solutions.append((''.join(map(str, s)), ''.join(sol), cost))\n",
        "print (\"-------\")\n",
        "print (Solutions)"
      ],
      "execution_count": null,
      "outputs": [
        {
          "output_type": "stream",
          "name": "stdout",
          "text": [
            "['l', 'l', 'd', 'd', 'r', 'u', 'u', 'l', 'd', 'd', 'r', 'u', 'u', 'l', 'd', 'r', 'd', 'r']\n",
            "-----------------------\n",
            "[5, 3, 0, 4, 7, 6, 2, 1, 8] \n",
            "\n",
            "[1, 2, 3, 4, 5, 6, 7, 8, 0]\n",
            "Length of solution:  18\n",
            "Nodes Expanded= 22919\n",
            "-----------------------\n",
            "['l', 'd', 'r', 'u', 'l', 'l', 'd', 'r', 'r', 'u', 'l', 'd', 'r', 'd']\n",
            "-----------------------\n",
            "[3, 2, 0, 1, 5, 4, 7, 8, 6] \n",
            "\n",
            "[1, 2, 3, 4, 5, 6, 7, 8, 0]\n",
            "Length of solution:  14\n",
            "Nodes Expanded= 4754\n",
            "-----------------------\n",
            "['r', 'd', 'd', 'l', 'u', 'r', 'r', 'd', 'l', 'l', 'u', 'u', 'r', 'd', 'r', 'u', 'l', 'l', 'd', 'r', 'u', 'r', 'd', 'd']\n",
            "-----------------------\n",
            "[0, 1, 3, 8, 5, 2, 6, 7, 4] \n",
            "\n",
            "[1, 2, 3, 4, 5, 6, 7, 8, 0]\n",
            "Length of solution:  24\n",
            "Nodes Expanded= 120796\n",
            "-----------------------\n",
            "['u', 'l', 'u', 'l', 'd', 'r', 'r', 'u', 'l', 'd', 'd', 'r', 'u', 'l', 'd', 'l', 'u', 'r', 'u', 'l', 'd', 'r', 'r', 'd']\n",
            "-----------------------\n",
            "[3, 7, 6, 2, 4, 1, 8, 5, 0] \n",
            "\n",
            "[1, 2, 3, 4, 5, 6, 7, 8, 0]\n",
            "Length of solution:  24\n",
            "Nodes Expanded= 121538\n",
            "-----------------------\n",
            "['d', 'l', 'u', 'u', 'r', 'd', 'r', 'u', 'l', 'd', 'l', 'u', 'r', 'r', 'd', 'l', 'd', 'r', 'u', 'u', 'l', 'd', 'd', 'l', 'u', 'r', 'r', 'd']\n",
            "-----------------------\n",
            "[6, 7, 5, 8, 0, 1, 2, 3, 4] \n",
            "\n",
            "[1, 2, 3, 4, 5, 6, 7, 8, 0]\n",
            "Length of solution:  28\n",
            "Nodes Expanded= 179157\n",
            "-----------------------\n",
            "['d', 'l', 'u', 'u', 'r', 'd', 'r', 'u', 'l', 'd', 'd', 'r', 'u', 'l', 'd', 'l', 'u', 'u', 'r', 'r', 'd', 'd']\n",
            "-----------------------\n",
            "[7, 4, 6, 8, 0, 1, 3, 2, 5] \n",
            "\n",
            "[1, 2, 3, 4, 5, 6, 7, 8, 0]\n",
            "Length of solution:  22\n",
            "Nodes Expanded= 92946\n",
            "-----------------------\n",
            "['r', 'r', 'd', 'l', 'l', 'd', 'r', 'r', 'u', 'l', 'l', 'd', 'r', 'u', 'u', 'r', 'd', 'd', 'l', 'u', 'r', 'd']\n",
            "-----------------------\n",
            "[0, 1, 8, 3, 5, 2, 6, 4, 7] \n",
            "\n",
            "[1, 2, 3, 4, 5, 6, 7, 8, 0]\n",
            "Length of solution:  22\n",
            "Nodes Expanded= 72788\n",
            "-----------------------\n",
            "['r', 'r', 'd', 'l', 'd', 'r', 'u', 'l', 'u', 'r', 'd', 'l', 'd', 'r', 'u', 'l', 'l', 'u', 'r', 'r', 'd', 'd']\n",
            "-----------------------\n",
            "[0, 4, 6, 5, 8, 1, 7, 2, 3] \n",
            "\n",
            "[1, 2, 3, 4, 5, 6, 7, 8, 0]\n",
            "Length of solution:  22\n",
            "Nodes Expanded= 82015\n",
            "-----------------------\n",
            "['r', 'u', 'l', 'd', 'r', 'd', 'l', 'u', 'l', 'd', 'r', 'u', 'r', 'd', 'l', 'u', 'r', 'u', 'l', 'd', 'r', 'd']\n",
            "-----------------------\n",
            "[1, 5, 7, 6, 0, 3, 4, 2, 8] \n",
            "\n",
            "[1, 2, 3, 4, 5, 6, 7, 8, 0]\n",
            "Length of solution:  22\n",
            "Nodes Expanded= 86853\n",
            "-----------------------\n",
            "['d', 'r', 'd', 'l', 'u', 'u', 'r', 'd', 'd', 'r', 'u', 'u', 'l', 'd', 'r', 'u', 'l', 'l', 'd', 'r', 'r', 'd']\n",
            "-----------------------\n",
            "[0, 2, 4, 1, 7, 6, 3, 5, 8] \n",
            "\n",
            "[1, 2, 3, 4, 5, 6, 7, 8, 0]\n",
            "Length of solution:  22\n",
            "Nodes Expanded= 77754\n",
            "-----------------------\n",
            "-------\n",
            "[('530476218', 'llddruulddruuldrdr', 22919), ('320154786', 'ldrulldrruldrd', 4754), ('013852674', 'rddlurrdlluurdrulldrurdd', 120796), ('376241850', 'ululdrrulddruldluruldrrd', 121538), ('675801234', 'dluurdruldlurrdldruulddlurrd', 179157), ('746801325', 'dluurdrulddruldluurrdd', 92946), ('018352647', 'rrdlldrrulldruurddlurd', 72788), ('046581723', 'rrdldrulurdldrullurrdd', 82015), ('157603428', 'ruldrdluldrurdluruldrd', 86853), ('024176358', 'drdluurddruuldrulldrrd', 77754)]\n"
          ]
        }
      ]
    },
    {
      "cell_type": "markdown",
      "metadata": {
        "id": "p8yiFsHoU6sf"
      },
      "source": [
        "### AStar using ManhattanDistance w/ Test Problems"
      ]
    },
    {
      "cell_type": "code",
      "metadata": {
        "colab": {
          "base_uri": "https://localhost:8080/"
        },
        "id": "6VD8LuUJRhxU",
        "outputId": "4b273cd4-6f67-4d63-958b-c55bf402df81"
      },
      "source": [
        "AStarFb = lambda n: n.PathCost + Manhattan(n.State, GoalState)\n",
        "testProblems = [[5, 3, 0, 4, 7, 6, 2, 1, 8], [3, 2, 0, 1, 5, 4, 7, 8, 6], [0, 1, 3, 8, 5, 2, 6, 7, 4],\n",
        "                [3, 7, 6, 2, 4, 1, 8, 5, 0], [6, 7, 5, 8, 0, 1, 2, 3, 4], [7, 4, 6, 8, 0, 1, 3, 2, 5],\n",
        "                [0, 1, 8, 3, 5, 2, 6, 4, 7], [0, 4, 6, 5, 8, 1, 7, 2, 3], [1, 5, 7, 6, 0, 3, 4, 2, 8],\n",
        "                [0, 2, 4, 1, 7, 6, 3, 5, 8]]\n",
        "\n",
        "Solutions = []\n",
        "for s in testProblems:\n",
        "  TileSliding.INITIAL = s\n",
        "  ret, cost = BestFirstSearch(TileSliding, AStarF)\n",
        "  sol = Solution(ret)\n",
        "  print (sol)\n",
        "  print (\"-----------------------\")\n",
        "  print (TileSliding.INITIAL,'\\n')\n",
        "  print (ApplyMoves(sol, TileSliding.INITIAL))\n",
        "  print (\"Length of solution: \", len(sol))\n",
        "  print (\"Nodes Expanded=\", cost)\n",
        "  print (\"-----------------------\")\n",
        "  Solutions.append((''.join(map(str, s)), ''.join(sol), cost))\n",
        "print (\"-------\")\n",
        "print (Solutions)"
      ],
      "execution_count": null,
      "outputs": [
        {
          "output_type": "stream",
          "name": "stdout",
          "text": [
            "['l', 'l', 'd', 'd', 'r', 'u', 'u', 'l', 'd', 'd', 'r', 'u', 'u', 'l', 'd', 'r', 'd', 'r']\n",
            "-----------------------\n",
            "[5, 3, 0, 4, 7, 6, 2, 1, 8] \n",
            "\n",
            "[1, 2, 3, 4, 5, 6, 7, 8, 0]\n",
            "Length of solution:  18\n",
            "Nodes Expanded= 251\n",
            "-----------------------\n",
            "['l', 'd', 'r', 'u', 'l', 'l', 'd', 'r', 'r', 'u', 'l', 'd', 'r', 'd']\n",
            "-----------------------\n",
            "[3, 2, 0, 1, 5, 4, 7, 8, 6] \n",
            "\n",
            "[1, 2, 3, 4, 5, 6, 7, 8, 0]\n",
            "Length of solution:  14\n",
            "Nodes Expanded= 92\n",
            "-----------------------\n",
            "['d', 'd', 'r', 'u', 'r', 'd', 'l', 'l', 'u', 'u', 'r', 'd', 'd', 'l', 'u', 'r', 'r', 'd', 'l', 'l', 'u', 'r', 'r', 'd']\n",
            "-----------------------\n",
            "[0, 1, 3, 8, 5, 2, 6, 7, 4] \n",
            "\n",
            "[1, 2, 3, 4, 5, 6, 7, 8, 0]\n",
            "Length of solution:  24\n",
            "Nodes Expanded= 2798\n",
            "-----------------------\n",
            "['u', 'l', 'u', 'l', 'd', 'r', 'r', 'u', 'l', 'd', 'd', 'r', 'u', 'l', 'd', 'l', 'u', 'r', 'u', 'l', 'd', 'r', 'r', 'd']\n",
            "-----------------------\n",
            "[3, 7, 6, 2, 4, 1, 8, 5, 0] \n",
            "\n",
            "[1, 2, 3, 4, 5, 6, 7, 8, 0]\n",
            "Length of solution:  24\n",
            "Nodes Expanded= 1769\n",
            "-----------------------\n",
            "['d', 'l', 'u', 'u', 'r', 'd', 'r', 'u', 'l', 'd', 'l', 'u', 'r', 'r', 'd', 'l', 'd', 'r', 'u', 'u', 'l', 'd', 'd', 'l', 'u', 'r', 'r', 'd']\n",
            "-----------------------\n",
            "[6, 7, 5, 8, 0, 1, 2, 3, 4] \n",
            "\n",
            "[1, 2, 3, 4, 5, 6, 7, 8, 0]\n",
            "Length of solution:  28\n",
            "Nodes Expanded= 7654\n",
            "-----------------------\n",
            "['d', 'l', 'u', 'u', 'r', 'd', 'r', 'u', 'l', 'd', 'd', 'r', 'u', 'l', 'd', 'l', 'u', 'u', 'r', 'r', 'd', 'd']\n",
            "-----------------------\n",
            "[7, 4, 6, 8, 0, 1, 3, 2, 5] \n",
            "\n",
            "[1, 2, 3, 4, 5, 6, 7, 8, 0]\n",
            "Length of solution:  22\n",
            "Nodes Expanded= 641\n",
            "-----------------------\n",
            "['r', 'r', 'd', 'l', 'l', 'd', 'r', 'r', 'u', 'l', 'u', 'r', 'd', 'l', 'l', 'd', 'r', 'r', 'u', 'l', 'd', 'r']\n",
            "-----------------------\n",
            "[0, 1, 8, 3, 5, 2, 6, 4, 7] \n",
            "\n",
            "[1, 2, 3, 4, 5, 6, 7, 8, 0]\n",
            "Length of solution:  22\n",
            "Nodes Expanded= 570\n",
            "-----------------------\n",
            "['r', 'r', 'd', 'l', 'd', 'r', 'u', 'l', 'u', 'r', 'd', 'l', 'd', 'r', 'u', 'l', 'l', 'u', 'r', 'r', 'd', 'd']\n",
            "-----------------------\n",
            "[0, 4, 6, 5, 8, 1, 7, 2, 3] \n",
            "\n",
            "[1, 2, 3, 4, 5, 6, 7, 8, 0]\n",
            "Length of solution:  22\n",
            "Nodes Expanded= 1020\n",
            "-----------------------\n",
            "['r', 'u', 'l', 'd', 'd', 'r', 'u', 'u', 'l', 'd', 'd', 'r', 'u', 'l', 'l', 'd', 'r', 'r', 'u', 'l', 'd', 'r']\n",
            "-----------------------\n",
            "[1, 5, 7, 6, 0, 3, 4, 2, 8] \n",
            "\n",
            "[1, 2, 3, 4, 5, 6, 7, 8, 0]\n",
            "Length of solution:  22\n",
            "Nodes Expanded= 1378\n",
            "-----------------------\n",
            "['d', 'r', 'd', 'l', 'u', 'r', 'd', 'r', 'u', 'l', 'l', 'u', 'r', 'r', 'd', 'l', 'u', 'l', 'd', 'r', 'r', 'd']\n",
            "-----------------------\n",
            "[0, 2, 4, 1, 7, 6, 3, 5, 8] \n",
            "\n",
            "[1, 2, 3, 4, 5, 6, 7, 8, 0]\n",
            "Length of solution:  22\n",
            "Nodes Expanded= 1090\n",
            "-----------------------\n",
            "-------\n",
            "[('530476218', 'llddruulddruuldrdr', 251), ('320154786', 'ldrulldrruldrd', 92), ('013852674', 'ddrurdlluurddlurrdllurrd', 2798), ('376241850', 'ululdrrulddruldluruldrrd', 1769), ('675801234', 'dluurdruldlurrdldruulddlurrd', 7654), ('746801325', 'dluurdrulddruldluurrdd', 641), ('018352647', 'rrdlldrrulurdlldrruldr', 570), ('046581723', 'rrdldrulurdldrullurrdd', 1020), ('157603428', 'rulddruulddrulldrruldr', 1378), ('024176358', 'drdlurdrullurrdluldrrd', 1090)]\n"
          ]
        }
      ]
    },
    {
      "cell_type": "markdown",
      "metadata": {
        "id": "dluzNjyYVBSl"
      },
      "source": [
        "### AStar using OutOfPlace w/ Test Problems"
      ]
    },
    {
      "cell_type": "code",
      "metadata": {
        "colab": {
          "base_uri": "https://localhost:8080/"
        },
        "id": "m7icYl-JUGbR",
        "outputId": "dbb66747-15c8-4e3e-e390-30397cbd8210"
      },
      "source": [
        "AStarFb = lambda n: n.PathCost + OutOfPlace(n.State, GoalState)\n",
        "testProblems = [[5, 3, 0, 4, 7, 6, 2, 1, 8], [3, 2, 0, 1, 5, 4, 7, 8, 6], [0, 1, 3, 8, 5, 2, 6, 7, 4],\n",
        "                [3, 7, 6, 2, 4, 1, 8, 5, 0], [6, 7, 5, 8, 0, 1, 2, 3, 4], [7, 4, 6, 8, 0, 1, 3, 2, 5],\n",
        "                [0, 1, 8, 3, 5, 2, 6, 4, 7], [0, 4, 6, 5, 8, 1, 7, 2, 3], [1, 5, 7, 6, 0, 3, 4, 2, 8],\n",
        "                [0, 2, 4, 1, 7, 6, 3, 5, 8]]\n",
        "\n",
        "Solutions = []\n",
        "for s in testProblems:\n",
        "  TileSliding.INITIAL = s\n",
        "  ret, cost = BestFirstSearch(TileSliding, AStarFb)\n",
        "  sol = Solution(ret)\n",
        "  print (sol)\n",
        "  print (\"-----------------------\")\n",
        "  print (TileSliding.INITIAL,'\\n')\n",
        "  print (ApplyMoves(sol, TileSliding.INITIAL))\n",
        "  print (\"Length of solution: \", len(sol))\n",
        "  print (\"Nodes Expanded=\", cost)\n",
        "  print (\"-----------------------\")\n",
        "  Solutions.append((''.join(map(str, s)), ''.join(sol), cost))\n",
        "print (\"-------\")\n",
        "print (Solutions)"
      ],
      "execution_count": null,
      "outputs": [
        {
          "output_type": "stream",
          "name": "stdout",
          "text": [
            "['l', 'd', 'l', 'd', 'r', 'u', 'u', 'l', 'd', 'd', 'r', 'u', 'u', 'l', 'd', 'd', 'r', 'r']\n",
            "-----------------------\n",
            "[5, 3, 0, 4, 7, 6, 2, 1, 8] \n",
            "\n",
            "[1, 2, 3, 4, 5, 6, 7, 8, 0]\n",
            "Length of solution:  18\n",
            "Nodes Expanded= 1319\n",
            "-----------------------\n",
            "['l', 'd', 'r', 'u', 'l', 'l', 'd', 'r', 'r', 'u', 'l', 'd', 'r', 'd']\n",
            "-----------------------\n",
            "[3, 2, 0, 1, 5, 4, 7, 8, 6] \n",
            "\n",
            "[1, 2, 3, 4, 5, 6, 7, 8, 0]\n",
            "Length of solution:  14\n",
            "Nodes Expanded= 242\n",
            "-----------------------\n",
            "['d', 'd', 'r', 'u', 'r', 'd', 'l', 'l', 'u', 'u', 'r', 'd', 'd', 'l', 'u', 'r', 'r', 'd', 'l', 'l', 'u', 'r', 'r', 'd']\n",
            "-----------------------\n",
            "[0, 1, 3, 8, 5, 2, 6, 7, 4] \n",
            "\n",
            "[1, 2, 3, 4, 5, 6, 7, 8, 0]\n",
            "Length of solution:  24\n",
            "Nodes Expanded= 18751\n",
            "-----------------------\n",
            "['u', 'l', 'u', 'l', 'd', 'r', 'r', 'u', 'l', 'd', 'd', 'r', 'u', 'l', 'd', 'l', 'u', 'r', 'u', 'l', 'd', 'r', 'r', 'd']\n",
            "-----------------------\n",
            "[3, 7, 6, 2, 4, 1, 8, 5, 0] \n",
            "\n",
            "[1, 2, 3, 4, 5, 6, 7, 8, 0]\n",
            "Length of solution:  24\n",
            "Nodes Expanded= 17913\n",
            "-----------------------\n",
            "['r', 'd', 'l', 'u', 'l', 'd', 'r', 'u', 'r', 'd', 'l', 'u', 'u', 'l', 'd', 'd', 'r', 'u', 'u', 'r', 'd', 'l', 'u', 'l', 'd', 'd', 'r', 'r']\n",
            "-----------------------\n",
            "[6, 7, 5, 8, 0, 1, 2, 3, 4] \n",
            "\n",
            "[1, 2, 3, 4, 5, 6, 7, 8, 0]\n",
            "Length of solution:  28\n",
            "Nodes Expanded= 82106\n",
            "-----------------------\n",
            "['d', 'l', 'u', 'u', 'r', 'd', 'r', 'u', 'l', 'd', 'd', 'r', 'u', 'l', 'd', 'l', 'u', 'u', 'r', 'r', 'd', 'd']\n",
            "-----------------------\n",
            "[7, 4, 6, 8, 0, 1, 3, 2, 5] \n",
            "\n",
            "[1, 2, 3, 4, 5, 6, 7, 8, 0]\n",
            "Length of solution:  22\n",
            "Nodes Expanded= 9167\n",
            "-----------------------\n",
            "['r', 'r', 'd', 'l', 'l', 'd', 'r', 'r', 'u', 'l', 'u', 'r', 'd', 'l', 'l', 'd', 'r', 'r', 'u', 'l', 'd', 'r']\n",
            "-----------------------\n",
            "[0, 1, 8, 3, 5, 2, 6, 4, 7] \n",
            "\n",
            "[1, 2, 3, 4, 5, 6, 7, 8, 0]\n",
            "Length of solution:  22\n",
            "Nodes Expanded= 7533\n",
            "-----------------------\n",
            "['r', 'r', 'd', 'l', 'd', 'r', 'u', 'l', 'u', 'r', 'd', 'l', 'd', 'r', 'u', 'l', 'l', 'u', 'r', 'r', 'd', 'd']\n",
            "-----------------------\n",
            "[0, 4, 6, 5, 8, 1, 7, 2, 3] \n",
            "\n",
            "[1, 2, 3, 4, 5, 6, 7, 8, 0]\n",
            "Length of solution:  22\n",
            "Nodes Expanded= 8021\n",
            "-----------------------\n",
            "['r', 'u', 'l', 'd', 'd', 'r', 'u', 'u', 'l', 'd', 'd', 'r', 'u', 'l', 'l', 'd', 'r', 'r', 'u', 'l', 'd', 'r']\n",
            "-----------------------\n",
            "[1, 5, 7, 6, 0, 3, 4, 2, 8] \n",
            "\n",
            "[1, 2, 3, 4, 5, 6, 7, 8, 0]\n",
            "Length of solution:  22\n",
            "Nodes Expanded= 10011\n",
            "-----------------------\n",
            "['d', 'r', 'd', 'r', 'u', 'u', 'l', 'd', 'r', 'd', 'l', 'l', 'u', 'r', 'd', 'r', 'u', 'l', 'u', 'r', 'd', 'd']\n",
            "-----------------------\n",
            "[0, 2, 4, 1, 7, 6, 3, 5, 8] \n",
            "\n",
            "[1, 2, 3, 4, 5, 6, 7, 8, 0]\n",
            "Length of solution:  22\n",
            "Nodes Expanded= 8014\n",
            "-----------------------\n",
            "-------\n",
            "[('530476218', 'ldldruulddruulddrr', 1319), ('320154786', 'ldrulldrruldrd', 242), ('013852674', 'ddrurdlluurddlurrdllurrd', 18751), ('376241850', 'ululdrrulddruldluruldrrd', 17913), ('675801234', 'rdluldrurdluulddruurdlulddrr', 82106), ('746801325', 'dluurdrulddruldluurrdd', 9167), ('018352647', 'rrdlldrrulurdlldrruldr', 7533), ('046581723', 'rrdldrulurdldrullurrdd', 8021), ('157603428', 'rulddruulddrulldrruldr', 10011), ('024176358', 'drdruuldrdllurdrulurdd', 8014)]\n"
          ]
        }
      ]
    },
    {
      "cell_type": "markdown",
      "metadata": {
        "id": "TEBWJx6DwN-r"
      },
      "source": [
        "### Best First Search -- Greedy"
      ]
    },
    {
      "cell_type": "code",
      "metadata": {
        "colab": {
          "base_uri": "https://localhost:8080/"
        },
        "id": "fI27-Y5ivXdw",
        "outputId": "8ae63ec0-b2e5-47cf-9550-6a2d152f6a29"
      },
      "source": [
        "### Best First\n",
        "bestFirstSearchf = lambda n: OutOfPlace(n.State, GoalState)\n",
        "testProblems = [[5, 3, 0, 4, 7, 6, 2, 1, 8], [3, 2, 0, 1, 5, 4, 7, 8, 6], [0, 1, 3, 8, 5, 2, 6, 7, 4],\n",
        "                [3, 7, 6, 2, 4, 1, 8, 5, 0], [6, 7, 5, 8, 0, 1, 2, 3, 4], [7, 4, 6, 8, 0, 1, 3, 2, 5],\n",
        "                [0, 1, 8, 3, 5, 2, 6, 4, 7], [0, 4, 6, 5, 8, 1, 7, 2, 3], [1, 5, 7, 6, 0, 3, 4, 2, 8],\n",
        "                [0, 2, 4, 1, 7, 6, 3, 5, 8]]\n",
        "\n",
        "Solutions = []\n",
        "for s in testProblems:\n",
        "  TileSliding.INITIAL = s\n",
        "  ret, cost = BestFirstSearch(TileSliding, bestFirstSearchf)\n",
        "  sol = Solution(ret)\n",
        "  print (sol)\n",
        "  print (\"-----------------------\")\n",
        "  print (TileSliding.INITIAL,'\\n')\n",
        "  print (ApplyMoves(sol, TileSliding.INITIAL))\n",
        "  print (\"Length of solution: \", len(sol))\n",
        "  print (\"Nodes Expanded=\", cost)\n",
        "  print (\"-----------------------\")\n",
        "  Solutions.append((''.join(map(str, s)), ''.join(sol), cost))\n",
        "print (\"-------\")\n",
        "print (Solutions)"
      ],
      "execution_count": null,
      "outputs": [
        {
          "output_type": "stream",
          "name": "stdout",
          "text": [
            "['l', 'l', 'd', 'd', 'r', 'u', 'u', 'l', 'd', 'd', 'r', 'u', 'u', 'l', 'd', 'r', 'd', 'r']\n",
            "-----------------------\n",
            "[5, 3, 0, 4, 7, 6, 2, 1, 8] \n",
            "\n",
            "[1, 2, 3, 4, 5, 6, 7, 8, 0]\n",
            "Length of solution:  18\n",
            "Nodes Expanded= 52\n",
            "-----------------------\n",
            "['l', 'l', 'd', 'r', 'u', 'r', 'd', 'l', 'l', 'u', 'r', 'r', 'd', 'l', 'u', 'l', 'd', 'r', 'r', 'd']\n",
            "-----------------------\n",
            "[3, 2, 0, 1, 5, 4, 7, 8, 6] \n",
            "\n",
            "[1, 2, 3, 4, 5, 6, 7, 8, 0]\n",
            "Length of solution:  20\n",
            "Nodes Expanded= 196\n",
            "-----------------------\n",
            "['r', 'd', 'd', 'l', 'u', 'r', 'r', 'd', 'l', 'l', 'u', 'r', 'r', 'd', 'l', 'l', 'u', 'r', 'u', 'l', 'd', 'd', 'r', 'u', 'l', 'u', 'r', 'd', 'd', 'r']\n",
            "-----------------------\n",
            "[0, 1, 3, 8, 5, 2, 6, 7, 4] \n",
            "\n",
            "[1, 2, 3, 4, 5, 6, 7, 8, 0]\n",
            "Length of solution:  30\n",
            "Nodes Expanded= 380\n",
            "-----------------------\n",
            "['u', 'u', 'l', 'l', 'd', 'r', 'd', 'r', 'u', 'u', 'l', 'd', 'd', 'l', 'u', 'r', 'u', 'l', 'd', 'r', 'r', 'd', 'l', 'u', 'l', 'd', 'r', 'r']\n",
            "-----------------------\n",
            "[3, 7, 6, 2, 4, 1, 8, 5, 0] \n",
            "\n",
            "[1, 2, 3, 4, 5, 6, 7, 8, 0]\n",
            "Length of solution:  28\n",
            "Nodes Expanded= 609\n",
            "-----------------------\n",
            "['l', 'd', 'r', 'u', 'r', 'u', 'l', 'l', 'd', 'r', 'r', 'u', 'l', 'l', 'd', 'r', 'd', 'l', 'u', 'r', 'r', 'd', 'l', 'l', 'u', 'r', 'd', 'l', 'u', 'r', 'r', 'd', 'l', 'u', 'r', 'u', 'l', 'd', 'd', 'r', 'u', 'l', 'u', 'r', 'd', 'l', 'l', 'u', 'r', 'r', 'd', 'l', 'u', 'l', 'd', 'r', 'r', 'd']\n",
            "-----------------------\n",
            "[6, 7, 5, 8, 0, 1, 2, 3, 4] \n",
            "\n",
            "[1, 2, 3, 4, 5, 6, 7, 8, 0]\n",
            "Length of solution:  58\n",
            "Nodes Expanded= 1753\n",
            "-----------------------\n",
            "['r', 'u', 'l', 'd', 'l', 'u', 'r', 'd', 'd', 'l', 'u', 'r', 'd', 'r', 'u', 'l', 'u', 'r', 'd', 'd', 'l', 'u', 'u', 'l', 'd', 'r', 'u', 'r', 'd', 'l', 'u', 'l', 'd', 'r', 'r', 'u', 'l', 'd', 'l', 'u', 'r', 'r', 'd', 'd', 'l', 'u', 'r', 'u', 'l', 'd', 'd', 'r', 'u', 'l', 'u', 'r', 'd', 'd']\n",
            "-----------------------\n",
            "[7, 4, 6, 8, 0, 1, 3, 2, 5] \n",
            "\n",
            "[1, 2, 3, 4, 5, 6, 7, 8, 0]\n",
            "Length of solution:  58\n",
            "Nodes Expanded= 365\n",
            "-----------------------\n",
            "['r', 'd', 'r', 'u', 'l', 'd', 'l', 'd', 'r', 'r', 'u', 'l', 'l', 'd', 'r', 'u', 'r', 'u', 'l', 'd', 'd', 'r', 'u', 'l', 'u', 'r', 'd', 'd', 'l', 'u', 'r', 'u', 'l', 'd', 'd', 'r', 'u', 'l', 'u', 'r', 'd', 'd']\n",
            "-----------------------\n",
            "[0, 1, 8, 3, 5, 2, 6, 4, 7] \n",
            "\n",
            "[1, 2, 3, 4, 5, 6, 7, 8, 0]\n",
            "Length of solution:  42\n",
            "Nodes Expanded= 696\n",
            "-----------------------\n",
            "['r', 'd', 'l', 'u', 'r', 'r', 'd', 'd', 'l', 'u', 'u', 'r', 'd', 'l', 'd', 'l', 'u', 'u', 'r', 'd', 'l', 'd', 'r', 'u', 'u', 'r', 'd', 'd', 'l', 'u', 'r', 'u', 'l', 'd', 'd', 'r']\n",
            "-----------------------\n",
            "[0, 4, 6, 5, 8, 1, 7, 2, 3] \n",
            "\n",
            "[1, 2, 3, 4, 5, 6, 7, 8, 0]\n",
            "Length of solution:  36\n",
            "Nodes Expanded= 386\n",
            "-----------------------\n",
            "['u', 'r', 'd', 'l', 'l', 'd', 'r', 'u', 'r', 'd', 'l', 'u', 'u', 'r', 'd', 'l', 'd', 'r', 'u', 'u', 'l', 'd', 'd', 'r', 'u', 'l', 'u', 'l', 'd', 'd', 'r', 'u', 'l', 'u', 'r', 'd', 'd', 'r']\n",
            "-----------------------\n",
            "[1, 5, 7, 6, 0, 3, 4, 2, 8] \n",
            "\n",
            "[1, 2, 3, 4, 5, 6, 7, 8, 0]\n",
            "Length of solution:  38\n",
            "Nodes Expanded= 1232\n",
            "-----------------------\n",
            "['d', 'r', 'd', 'l', 'u', 'r', 'd', 'r', 'u', 'l', 'l', 'u', 'r', 'r', 'd', 'l', 'u', 'l', 'd', 'r', 'r', 'd']\n",
            "-----------------------\n",
            "[0, 2, 4, 1, 7, 6, 3, 5, 8] \n",
            "\n",
            "[1, 2, 3, 4, 5, 6, 7, 8, 0]\n",
            "Length of solution:  22\n",
            "Nodes Expanded= 111\n",
            "-----------------------\n",
            "-------\n",
            "[('530476218', 'llddruulddruuldrdr', 52), ('320154786', 'lldrurdllurrdluldrrd', 196), ('013852674', 'rddlurrdllurrdllurulddrulurddr', 380), ('376241850', 'uulldrdruulddluruldrrdluldrr', 609), ('675801234', 'ldrurulldrrulldrdlurrdllurdlurrdlurulddrulurdllurrdluldrrd', 1753), ('746801325', 'ruldlurddlurdrulurddluuldrurdluldrruldlurrddlurulddrulurdd', 365), ('018352647', 'rdruldldrrulldrurulddrulurddlurulddrulurdd', 696), ('046581723', 'rdlurrddluurdldluurdldruurddlurulddr', 386), ('157603428', 'urdlldrurdluurdldruulddrululddrulurddr', 1232), ('024176358', 'drdlurdrullurrdluldrrd', 111)]\n"
          ]
        }
      ]
    },
    {
      "cell_type": "code",
      "metadata": {
        "colab": {
          "base_uri": "https://localhost:8080/"
        },
        "id": "rQw9QKTCMvBY",
        "outputId": "b1dc4ff2-7678-4d8a-efe6-6a2c554d582c"
      },
      "source": [
        "### Best First\n",
        "bestFirstSearchf = lambda n: ManhattanDistance(n.State, GoalState)\n",
        "testProblems = [[5, 3, 0, 4, 7, 6, 2, 1, 8], [3, 2, 0, 1, 5, 4, 7, 8, 6], [0, 1, 3, 8, 5, 2, 6, 7, 4],\n",
        "                [3, 7, 6, 2, 4, 1, 8, 5, 0], [6, 7, 5, 8, 0, 1, 2, 3, 4], [7, 4, 6, 8, 0, 1, 3, 2, 5],\n",
        "                [0, 1, 8, 3, 5, 2, 6, 4, 7], [0, 4, 6, 5, 8, 1, 7, 2, 3], [1, 5, 7, 6, 0, 3, 4, 2, 8],\n",
        "                [0, 2, 4, 1, 7, 6, 3, 5, 8]]\n",
        "\n",
        "Solutions = []\n",
        "for s in testProblems:\n",
        "  TileSliding.INITIAL = s\n",
        "  ret, cost = BestFirstSearch(TileSliding, bestFirstSearchf)\n",
        "  sol = Solution(ret)\n",
        "  print (sol)\n",
        "  print (\"-----------------------\")\n",
        "  print (TileSliding.INITIAL,'\\n')\n",
        "  print (ApplyMoves(sol, TileSliding.INITIAL))\n",
        "  print (\"Length of solution: \", len(sol))\n",
        "  print (\"Nodes Expanded=\", cost)\n",
        "  print (\"-----------------------\")\n",
        "  Solutions.append((''.join(map(str, s)), ''.join(sol), cost))\n",
        "print (\"-------\")\n",
        "print (Solutions)"
      ],
      "execution_count": null,
      "outputs": [
        {
          "output_type": "stream",
          "name": "stdout",
          "text": [
            "['l', 'l', 'd', 'd', 'r', 'u', 'l', 'd', 'r', 'u', 'l', 'u', 'r', 'd', 'd', 'l', 'u', 'u', 'r', 'd', 'l', 'd', 'r', 'r']\n",
            "-----------------------\n",
            "[5, 3, 0, 4, 7, 6, 2, 1, 8] \n",
            "\n",
            "[1, 2, 3, 4, 5, 6, 7, 8, 0]\n",
            "Length of solution:  24\n",
            "Nodes Expanded= 263\n",
            "-----------------------\n",
            "['l', 'l', 'd', 'r', 'u', 'r', 'd', 'l', 'l', 'u', 'r', 'r', 'd', 'l', 'u', 'l', 'd', 'r', 'r', 'd']\n",
            "-----------------------\n",
            "[3, 2, 0, 1, 5, 4, 7, 8, 6] \n",
            "\n",
            "[1, 2, 3, 4, 5, 6, 7, 8, 0]\n",
            "Length of solution:  20\n",
            "Nodes Expanded= 193\n",
            "-----------------------\n",
            "['r', 'd', 'l', 'd', 'r', 'u', 'u', 'r', 'd', 'd', 'l', 'u', 'r', 'u', 'l', 'd', 'l', 'u', 'r', 'r', 'd', 'l', 'd', 'r', 'u', 'u', 'l', 'l', 'd', 'r', 'r', 'u', 'l', 'd', 'l', 'u', 'r', 'r', 'd', 'l', 'u', 'l', 'd', 'r', 'r', 'd']\n",
            "-----------------------\n",
            "[0, 1, 3, 8, 5, 2, 6, 7, 4] \n",
            "\n",
            "[1, 2, 3, 4, 5, 6, 7, 8, 0]\n",
            "Length of solution:  46\n",
            "Nodes Expanded= 412\n",
            "-----------------------\n",
            "['u', 'u', 'l', 'l', 'd', 'r', 'd', 'r', 'u', 'u', 'l', 'd', 'd', 'l', 'u', 'r', 'u', 'l', 'd', 'r', 'r', 'd', 'l', 'u', 'l', 'd', 'r', 'r']\n",
            "-----------------------\n",
            "[3, 7, 6, 2, 4, 1, 8, 5, 0] \n",
            "\n",
            "[1, 2, 3, 4, 5, 6, 7, 8, 0]\n",
            "Length of solution:  28\n",
            "Nodes Expanded= 38\n",
            "-----------------------\n",
            "['u', 'r', 'd', 'd', 'l', 'u', 'l', 'd', 'r', 'u', 'u', 'l', 'd', 'r', 'u', 'r', 'd', 'l', 'l', 'u', 'r', 'r', 'd', 'l', 'u', 'l', 'd', 'r', 'r', 'd', 'l', 'u', 'r', 'u', 'l', 'd', 'd', 'r', 'u', 'u', 'l', 'l', 'd', 'r', 'r', 'u', 'l', 'd', 'l', 'u', 'r', 'r', 'd', 'd']\n",
            "-----------------------\n",
            "[6, 7, 5, 8, 0, 1, 2, 3, 4] \n",
            "\n",
            "[1, 2, 3, 4, 5, 6, 7, 8, 0]\n",
            "Length of solution:  54\n",
            "Nodes Expanded= 362\n",
            "-----------------------\n",
            "['l', 'u', 'r', 'd', 'd', 'l', 'u', 'u', 'r', 'd', 'r', 'd', 'l', 'u', 'r', 'u', 'l', 'l', 'd', 'r', 'u', 'r', 'd', 'd', 'l', 'u', 'l', 'u', 'r', 'r', 'd', 'd', 'l', 'u', 'u', 'r', 'd', 'l', 'd', 'r', 'u', 'u', 'l', 'd', 'r', 'd', 'l', 'l', 'u', 'r', 'u', 'l', 'd', 'd', 'r', 'r']\n",
            "-----------------------\n",
            "[7, 4, 6, 8, 0, 1, 3, 2, 5] \n",
            "\n",
            "[1, 2, 3, 4, 5, 6, 7, 8, 0]\n",
            "Length of solution:  56\n",
            "Nodes Expanded= 205\n",
            "-----------------------\n",
            "['d', 'd', 'r', 'r', 'u', 'u', 'l', 'l', 'd', 'd', 'r', 'r', 'u', 'l', 'd', 'r', 'u', 'u', 'l', 'd', 'r', 'u', 'l', 'd', 'l', 'u', 'r', 'r', 'd', 'd', 'l', 'u', 'l', 'd', 'r', 'r', 'u', 'l', 'l', 'd', 'r', 'r', 'u', 'l', 'd', 'l', 'u', 'r', 'r', 'd', 'l', 'u', 'l', 'd', 'r', 'r']\n",
            "-----------------------\n",
            "[0, 1, 8, 3, 5, 2, 6, 4, 7] \n",
            "\n",
            "[1, 2, 3, 4, 5, 6, 7, 8, 0]\n",
            "Length of solution:  56\n",
            "Nodes Expanded= 180\n",
            "-----------------------\n",
            "['r', 'd', 'r', 'u', 'l', 'd', 'l', 'u', 'r', 'r', 'd', 'd', 'l', 'u', 'u', 'r', 'd', 'd', 'l', 'u', 'r', 'u', 'l', 'd', 'r', 'd', 'l', 'u', 'r', 'u', 'l', 'd', 'd', 'r', 'u', 'l', 'u', 'r', 'd', 'd']\n",
            "-----------------------\n",
            "[0, 4, 6, 5, 8, 1, 7, 2, 3] \n",
            "\n",
            "[1, 2, 3, 4, 5, 6, 7, 8, 0]\n",
            "Length of solution:  40\n",
            "Nodes Expanded= 184\n",
            "-----------------------\n",
            "['u', 'r', 'd', 'l', 'l', 'd', 'r', 'r', 'u', 'l', 'u', 'r', 'd', 'd', 'l', 'u', 'r', 'u', 'l', 'l', 'd', 'd', 'r', 'u', 'l', 'u', 'r', 'd', 'd', 'r']\n",
            "-----------------------\n",
            "[1, 5, 7, 6, 0, 3, 4, 2, 8] \n",
            "\n",
            "[1, 2, 3, 4, 5, 6, 7, 8, 0]\n",
            "Length of solution:  30\n",
            "Nodes Expanded= 158\n",
            "-----------------------\n",
            "['d', 'r', 'd', 'l', 'u', 'r', 'd', 'r', 'u', 'l', 'l', 'u', 'r', 'r', 'd', 'l', 'u', 'l', 'd', 'r', 'r', 'd']\n",
            "-----------------------\n",
            "[0, 2, 4, 1, 7, 6, 3, 5, 8] \n",
            "\n",
            "[1, 2, 3, 4, 5, 6, 7, 8, 0]\n",
            "Length of solution:  22\n",
            "Nodes Expanded= 166\n",
            "-----------------------\n",
            "-------\n",
            "[('530476218', 'llddruldrulurddluurdldrr', 263), ('320154786', 'lldrurdllurrdluldrrd', 193), ('013852674', 'rdldruurddluruldlurrdldruulldrruldlurrdluldrrd', 412), ('376241850', 'uulldrdruulddluruldrrdluldrr', 38), ('675801234', 'urddluldruuldrurdllurrdluldrrdlurulddruulldrruldlurrdd', 362), ('746801325', 'lurddluurdrdlurulldrurddlulurrddluurdldruuldrdllurulddrr', 205), ('018352647', 'ddrruullddrruldruuldruldlurrddluldrrulldrruldlurrdluldrr', 180), ('046581723', 'rdruldlurrddluurddluruldrdlurulddrulurdd', 184), ('157603428', 'urdlldrrulurddlurullddrulurddr', 158), ('024176358', 'drdlurdrullurrdluldrrd', 166)]\n"
          ]
        }
      ]
    },
    {
      "cell_type": "markdown",
      "metadata": {
        "id": "TFLhS5QmxRz2"
      },
      "source": [
        "# Domain 2"
      ]
    },
    {
      "cell_type": "code",
      "metadata": {
        "id": "PqDD8fsrxXK7"
      },
      "source": [
        "VectorWorldDim = 10\n",
        "VectorWorld = Problem()\n",
        "VectorWorld.INITIAL = [0]\n",
        "VectorWorld.IsGoal = lambda s: s==[3,] or s==(3,)\n",
        "VectorWorld.Actions = lambda s: ['Left', 'Right']\n",
        "## TileSliding.Result=VectorWorldResult\n",
        "VectorWorld.ActionCost = lambda s, a, sPrime: 1"
      ],
      "execution_count": null,
      "outputs": []
    },
    {
      "cell_type": "code",
      "metadata": {
        "id": "uWNR8AQJyCN7"
      },
      "source": [
        "def VectorWorldResult(state, action):\n",
        "  if action=='Left':\n",
        "    return [(state[0]+VectorWorldDim-1)%VectorWorldDim]\n",
        "  else:\n",
        "    return [(state[0]+1)%VectorWorldDim]\n",
        "VectorWorld.Result=VectorWorldResult\n"
      ],
      "execution_count": null,
      "outputs": []
    },
    {
      "cell_type": "code",
      "metadata": {
        "colab": {
          "base_uri": "https://localhost:8080/"
        },
        "id": "Ox26cyPP2xba",
        "outputId": "525f9f06-117d-4c53-c75f-8a2f41c218b8"
      },
      "source": [
        "print (VectorWorld.IsGoal((3,)))"
      ],
      "execution_count": null,
      "outputs": [
        {
          "output_type": "stream",
          "name": "stdout",
          "text": [
            "True\n"
          ]
        }
      ]
    },
    {
      "cell_type": "code",
      "metadata": {
        "colab": {
          "base_uri": "https://localhost:8080/"
        },
        "id": "SBfeM9Vbykci",
        "outputId": "1a791b19-24e3-46f3-d0f2-f5029cb776e0"
      },
      "source": [
        "ret, cost = BreadthFirstSearch(VectorWorld)\n",
        "print (\"ret=\", ret)\n",
        "sol = Solution(ret)\n",
        "print (sol)\n"
      ],
      "execution_count": null,
      "outputs": [
        {
          "output_type": "stream",
          "name": "stdout",
          "text": [
            "ret= [3], Right\n",
            "['Right', 'Right', 'Right']\n"
          ]
        }
      ]
    },
    {
      "cell_type": "code",
      "metadata": {
        "id": "dAbJ75Ym4WmP"
      },
      "source": [
        "VectorWorld.INITIAL = [8]"
      ],
      "execution_count": null,
      "outputs": []
    },
    {
      "cell_type": "code",
      "metadata": {
        "colab": {
          "base_uri": "https://localhost:8080/"
        },
        "id": "QGO1VglP4Zq6",
        "outputId": "5d3abbcc-71f1-4a9d-f6ba-5ba85571542a"
      },
      "source": [
        "ret, cost = BreadthFirstSearch(VectorWorld)\n",
        "print (\"ret=\", ret)\n",
        "sol = Solution(ret)\n",
        "print (sol)"
      ],
      "execution_count": null,
      "outputs": [
        {
          "output_type": "stream",
          "name": "stdout",
          "text": [
            "ret= [3], Left\n",
            "['Left', 'Left', 'Left', 'Left', 'Left']\n"
          ]
        }
      ]
    },
    {
      "cell_type": "markdown",
      "source": [
        "# Solution"
      ],
      "metadata": {
        "id": "XnAHHLrRQY7R"
      }
    },
    {
      "cell_type": "code",
      "source": [
        "# First, we need to modify the Result function to handle different puzzle sizes\n",
        "def Result4x4(state, action):\n",
        "  i = state.index(0)\n",
        "  newState = list(state)\n",
        "  row, col = i // 4, i % 4\n",
        "  if ((action=='u' and row==0) or\n",
        "       (action=='d' and row==3) or\n",
        "       (action=='l' and col==0) or\n",
        "       (action=='r' and col==3)):\n",
        "      return newState\n",
        "  if action=='u':\n",
        "    l, r = row*4+col, (row-1)*4+col\n",
        "  elif action=='d':\n",
        "    l, r = row*4+col, (row+1)*4+col\n",
        "  elif action=='l':\n",
        "    l, r = row*4+col, row*4+col-1\n",
        "  elif action=='r':\n",
        "    l, r = row*4+col, row*4+col+1\n",
        "  newState[l], newState[r] = newState[r], newState[l]\n",
        "  return newState\n",
        "\n",
        "# 4x4 Tile Sliding Domain Setup\n",
        "StateDimension4x4 = 4\n",
        "InitialState4x4 = [1, 2, 3, 4, 5, 6, 7, 8, 9, 10, 11, 12, 13, 14, 15, 0]\n",
        "GoalState4x4 = [1, 2, 3, 4, 5, 6, 7, 8, 9, 10, 11, 12, 13, 14, 15, 0]\n",
        "\n",
        "# Create the 4x4 problem\n",
        "TileSliding4x4 = Problem()\n",
        "TileSliding4x4.INITIAL = InitialState4x4\n",
        "TileSliding4x4.IsGoal = lambda s: s==(1, 2, 3, 4, 5, 6, 7, 8, 9, 10, 11, 12, 13, 14, 15, 0)\n",
        "TileSliding4x4.Actions = Actions\n",
        "TileSliding4x4.Result = Result4x4  # Use the new Result function for 4x4\n",
        "TileSliding4x4.ActionCost = lambda s, a, sPrime: 1\n",
        "\n",
        "# We also need to modify the ManhattanDistance and OutOfPlace functions for 4x4\n",
        "def SingleTileManhattanDistance4x4(tile, left, right):\n",
        "  leftIndex = left.index(tile)\n",
        "  rightIndex = right.index(tile)\n",
        "  return (abs(leftIndex//4-rightIndex//4) +\n",
        "          abs(leftIndex%4-rightIndex%4))\n",
        "\n",
        "def ManhattanDistance4x4(left, right):\n",
        "  distances = [SingleTileManhattanDistance4x4(tile, left, right)\n",
        "     for tile in range(1, 16)]\n",
        "  return sum(distances)\n",
        "\n",
        "def OutOfPlace4x4(left, right):\n",
        "  distances = [left[i]!=right[i] and right[i] != 0\n",
        "     for i in range(16)]\n",
        "  return sum(distances)\n",
        "\n",
        "# Generate test problems\n",
        "def generate_test_problems(initial_state, size, num_problems=3):\n",
        "    problems = []\n",
        "    for steps in [5, 10, 20, 40, 80]:\n",
        "        for _ in range(num_problems):\n",
        "            # Use the appropriate Result function\n",
        "            if size == 3:\n",
        "                state, _ = RandomWalk(initial_state, steps)\n",
        "            else:\n",
        "                # For 4x4, we need to create a custom RandomWalk\n",
        "                state = list(initial_state)\n",
        "                actions_seq = []\n",
        "                action_last = None\n",
        "                for i in range(steps):\n",
        "                    action = None\n",
        "                    while action==None:\n",
        "                        action = random.choice(Actions(state))\n",
        "                        # Check if move is legal and not the opposite of the last move\n",
        "                        if size == 4:\n",
        "                            # For 4x4\n",
        "                            idx = state.index(0)\n",
        "                            row, col = idx // 4, idx % 4\n",
        "                            if ((action=='u' and row==0) or\n",
        "                                (action=='d' and row==3) or\n",
        "                                (action=='l' and col==0) or\n",
        "                                (action=='r' and col==3) or\n",
        "                                action == Opposite[action_last]):\n",
        "                                action = None\n",
        "                    action_last = action\n",
        "                    state = Result4x4(state, action)\n",
        "                    actions_seq.append(action)\n",
        "            problems.append((state, steps))\n",
        "    return problems\n",
        "\n",
        "# Function to run tests and collect results\n",
        "def run_tests(problem, test_problems, algo_name, algo_func, heuristic=None):\n",
        "    results = []\n",
        "    for state, steps in test_problems:\n",
        "        problem.INITIAL = state\n",
        "        start_time = time.time()\n",
        "\n",
        "        try:\n",
        "            if heuristic:\n",
        "                ret, nodes_expanded = algo_func(problem, heuristic)\n",
        "            else:\n",
        "                ret, nodes_expanded = algo_func(problem)\n",
        "\n",
        "            elapsed_time = time.time() - start_time\n",
        "\n",
        "            sol = Solution(ret) if ret else None\n",
        "            sol_length = len(sol) if sol else None\n",
        "\n",
        "            results.append({\n",
        "                'steps': steps,\n",
        "                'state': state,\n",
        "                'solution': sol,\n",
        "                'solution_length': sol_length,\n",
        "                'nodes_expanded': nodes_expanded,\n",
        "                'time': elapsed_time\n",
        "            })\n",
        "        except Exception as e:\n",
        "            results.append({\n",
        "                'steps': steps,\n",
        "                'state': state,\n",
        "                'solution': None,\n",
        "                'solution_length': None,\n",
        "                'nodes_expanded': f\"Error: {e}\",\n",
        "                'time': time.time() - start_time\n",
        "            })\n",
        "\n",
        "    return results\n",
        "\n",
        "# Import time for timing\n",
        "import time\n",
        "\n",
        "# Generate test problems\n",
        "test_problems_3x3 = generate_test_problems(InitialState, 3)\n",
        "test_problems_4x4 = generate_test_problems(InitialState4x4, 4)\n",
        "\n",
        "# Define heuristics\n",
        "h_outofplace_3x3 = lambda n: n.PathCost + OutOfPlace(n.State, GoalState)\n",
        "h_manhattan_3x3 = lambda n: n.PathCost + ManhattanDistance(n.State, GoalState)\n",
        "h_outofplace_4x4 = lambda n: n.PathCost + OutOfPlace4x4(n.State, GoalState4x4)\n",
        "h_manhattan_4x4 = lambda n: n.PathCost + ManhattanDistance4x4(n.State, GoalState4x4)\n",
        "\n",
        "# Run tests\n",
        "print(\"Running 3x3 tests...\")\n",
        "bfs_results_3x3 = run_tests(TileSliding, test_problems_3x3, \"BFS\", BreadthFirstSearch)\n",
        "astar_oop_results_3x3 = run_tests(TileSliding, test_problems_3x3, \"A* OutOfPlace\", BestFirstSearch, h_outofplace_3x3)\n",
        "astar_md_results_3x3 = run_tests(TileSliding, test_problems_3x3, \"A* Manhattan\", BestFirstSearch, h_manhattan_3x3)\n",
        "\n",
        "print(\"\\nRunning 4x4 tests...\")\n",
        "bfs_results_4x4 = run_tests(TileSliding4x4, test_problems_4x4, \"BFS\", BreadthFirstSearch)\n",
        "astar_oop_results_4x4 = run_tests(TileSliding4x4, test_problems_4x4, \"A* OutOfPlace\", BestFirstSearch, h_outofplace_4x4)\n",
        "astar_md_results_4x4 = run_tests(TileSliding4x4, test_problems_4x4, \"A* Manhattan\", BestFirstSearch, h_manhattan_4x4)\n",
        "\n",
        "# Print results\n",
        "def print_results(results, algo_name):\n",
        "    print(f\"\\n{algo_name} Results:\")\n",
        "    for i, result in enumerate(results):\n",
        "        print(f\"Problem {i+1} (Steps: {result['steps']}):\")\n",
        "        print(f\"  State: {result['state']}\")\n",
        "        print(f\"  Solution: {result['solution']}\")\n",
        "        print(f\"  Solution Length: {result['solution_length']}\")\n",
        "        print(f\"  Nodes Expanded: {result['nodes_expanded']}\")\n",
        "        print(f\"  Time: {result['time']:.2f}s\")\n",
        "\n",
        "print(\"\\n=== 3x3 RESULTS ===\")\n",
        "print_results(bfs_results_3x3, \"BFS\")\n",
        "print_results(astar_oop_results_3x3, \"A* OutOfPlace\")\n",
        "print_results(astar_md_results_3x3, \"A* Manhattan\")\n",
        "\n",
        "print(\"\\n=== 4x4 RESULTS ===\")\n",
        "print_results(bfs_results_4x4, \"BFS\")\n",
        "print_results(astar_oop_results_4x4, \"A* OutOfPlace\")\n",
        "print_results(astar_md_results_4x4, \"A* Manhattan\")"
      ],
      "metadata": {
        "colab": {
          "base_uri": "https://localhost:8080/"
        },
        "id": "MZpq-jiqQctL",
        "outputId": "a9b51ebe-8e53-478d-bd08-7b95c5c853db"
      },
      "execution_count": null,
      "outputs": [
        {
          "output_type": "stream",
          "name": "stdout",
          "text": [
            "Running 3x3 tests...\n",
            "\n",
            "Running 4x4 tests...\n",
            "\n",
            "=== 3x3 RESULTS ===\n",
            "\n",
            "BFS Results:\n",
            "Problem 1 (Steps: 5):\n",
            "  State: [2, 0, 3, 1, 4, 6, 7, 5, 8]\n",
            "  Solution: ['l', 'd', 'r', 'd', 'r']\n",
            "  Solution Length: 5\n",
            "  Nodes Expanded: 27\n",
            "  Time: 0.00s\n",
            "Problem 2 (Steps: 5):\n",
            "  State: [1, 2, 3, 5, 7, 0, 4, 8, 6]\n",
            "  Solution: ['d', 'l', 'u', 'l', 'd', 'r', 'r']\n",
            "  Solution Length: 7\n",
            "  Nodes Expanded: 74\n",
            "  Time: 0.00s\n",
            "Problem 3 (Steps: 5):\n",
            "  State: [2, 3, 6, 1, 5, 0, 4, 7, 8]\n",
            "  Solution: ['u', 'l', 'l', 'd', 'd', 'r', 'r']\n",
            "  Solution Length: 7\n",
            "  Nodes Expanded: 67\n",
            "  Time: 0.00s\n",
            "Problem 4 (Steps: 10):\n",
            "  State: [2, 3, 6, 1, 0, 7, 5, 4, 8]\n",
            "  Solution: ['r', 'u', 'l', 'l', 'd', 'd', 'r', 'u', 'l', 'd', 'r', 'r']\n",
            "  Solution Length: 12\n",
            "  Nodes Expanded: 1339\n",
            "  Time: 0.01s\n",
            "Problem 5 (Steps: 10):\n",
            "  State: [1, 6, 2, 5, 0, 3, 4, 7, 8]\n",
            "  Solution: ['u', 'r', 'd', 'l', 'l', 'd', 'r', 'r']\n",
            "  Solution Length: 8\n",
            "  Nodes Expanded: 146\n",
            "  Time: 0.00s\n",
            "Problem 6 (Steps: 10):\n",
            "  State: [0, 2, 5, 1, 7, 3, 4, 8, 6]\n",
            "  Solution: ['r', 'r', 'd', 'd', 'l', 'u', 'u', 'l', 'd', 'd', 'r', 'r']\n",
            "  Solution Length: 12\n",
            "  Nodes Expanded: 1036\n",
            "  Time: 0.01s\n",
            "Problem 7 (Steps: 20):\n",
            "  State: [2, 5, 3, 1, 6, 8, 4, 7, 0]\n",
            "  Solution: ['u', 'l', 'u', 'l', 'd', 'd', 'r', 'r']\n",
            "  Solution Length: 8\n",
            "  Nodes Expanded: 100\n",
            "  Time: 0.00s\n",
            "Problem 8 (Steps: 20):\n",
            "  State: [3, 6, 4, 2, 0, 5, 1, 7, 8]\n",
            "  Solution: ['r', 'u', 'l', 'l', 'd', 'd', 'r', 'u', 'r', 'u', 'l', 'l', 'd', 'r', 'd', 'r']\n",
            "  Solution Length: 16\n",
            "  Nodes Expanded: 8685\n",
            "  Time: 0.07s\n",
            "Problem 9 (Steps: 20):\n",
            "  State: [6, 2, 8, 1, 0, 7, 4, 5, 3]\n",
            "  Solution: ['d', 'r', 'u', 'u', 'l', 'l', 'd', 'r', 'd', 'r', 'u', 'l', 'u', 'r', 'd', 'l', 'l', 'd', 'r', 'r']\n",
            "  Solution Length: 20\n",
            "  Nodes Expanded: 38611\n",
            "  Time: 0.51s\n",
            "Problem 10 (Steps: 40):\n",
            "  State: [0, 7, 4, 3, 6, 2, 1, 8, 5]\n",
            "  Solution: ['d', 'd', 'r', 'u', 'u', 'l', 'd', 'r', 'r', 'u', 'l', 'd', 'r', 'd', 'l', 'l', 'u', 'r', 'r', 'd']\n",
            "  Solution Length: 20\n",
            "  Nodes Expanded: 27185\n",
            "  Time: 0.55s\n",
            "Problem 11 (Steps: 40):\n",
            "  State: [5, 6, 4, 2, 1, 7, 8, 3, 0]\n",
            "  Solution: ['u', 'u', 'l', 'l', 'd', 'r', 'd', 'r', 'u', 'u', 'l', 'd', 'd', 'r', 'u', 'u', 'l', 'l', 'd', 'r', 'd', 'l', 'u', 'r', 'r', 'd']\n",
            "  Solution Length: 26\n",
            "  Nodes Expanded: 144780\n",
            "  Time: 2.16s\n",
            "Problem 12 (Steps: 40):\n",
            "  State: [8, 3, 6, 4, 5, 1, 7, 2, 0]\n",
            "  Solution: ['l', 'u', 'r', 'u', 'l', 'd', 'd', 'r', 'u', 'l', 'd', 'l', 'u', 'u', 'r', 'd', 'l', 'd', 'r', 'u', 'r', 'd']\n",
            "  Solution Length: 22\n",
            "  Nodes Expanded: 68611\n",
            "  Time: 1.28s\n",
            "Problem 13 (Steps: 80):\n",
            "  State: [5, 4, 1, 7, 2, 8, 0, 3, 6]\n",
            "  Solution: ['r', 'r', 'u', 'l', 'd', 'l', 'u', 'u', 'r', 'r', 'd', 'l', 'd', 'r', 'u', 'l', 'l', 'u', 'r', 'r', 'd', 'd']\n",
            "  Solution Length: 22\n",
            "  Nodes Expanded: 71201\n",
            "  Time: 1.40s\n",
            "Problem 14 (Steps: 80):\n",
            "  State: [8, 4, 7, 2, 0, 6, 1, 5, 3]\n",
            "  Solution: ['r', 'd', 'l', 'u', 'u', 'r', 'd', 'd', 'l', 'u', 'u', 'l', 'd', 'd', 'r', 'u', 'u', 'l', 'd', 'd', 'r', 'u', 'r', 'd']\n",
            "  Solution Length: 24\n",
            "  Nodes Expanded: 125197\n",
            "  Time: 1.83s\n",
            "Problem 15 (Steps: 80):\n",
            "  State: [3, 2, 0, 5, 6, 4, 1, 7, 8]\n",
            "  Solution: ['l', 'd', 'l', 'd', 'r', 'u', 'r', 'u', 'l', 'l', 'd', 'r', 'r', 'u', 'l', 'd', 'd', 'r']\n",
            "  Solution Length: 18\n",
            "  Nodes Expanded: 15890\n",
            "  Time: 0.13s\n",
            "\n",
            "A* OutOfPlace Results:\n",
            "Problem 1 (Steps: 5):\n",
            "  State: [2, 0, 3, 1, 4, 6, 7, 5, 8]\n",
            "  Solution: ['l', 'd', 'r', 'd', 'r']\n",
            "  Solution Length: 5\n",
            "  Nodes Expanded: 5\n",
            "  Time: 0.00s\n",
            "Problem 2 (Steps: 5):\n",
            "  State: [1, 2, 3, 5, 7, 0, 4, 8, 6]\n",
            "  Solution: ['d', 'l', 'u', 'l', 'd', 'r', 'r']\n",
            "  Solution Length: 7\n",
            "  Nodes Expanded: 16\n",
            "  Time: 0.00s\n",
            "Problem 3 (Steps: 5):\n",
            "  State: [2, 3, 6, 1, 5, 0, 4, 7, 8]\n",
            "  Solution: ['u', 'l', 'l', 'd', 'd', 'r', 'r']\n",
            "  Solution Length: 7\n",
            "  Nodes Expanded: 7\n",
            "  Time: 0.00s\n",
            "Problem 4 (Steps: 10):\n",
            "  State: [2, 3, 6, 1, 0, 7, 5, 4, 8]\n",
            "  Solution: ['r', 'u', 'l', 'l', 'd', 'r', 'd', 'l', 'u', 'r', 'd', 'r']\n",
            "  Solution Length: 12\n",
            "  Nodes Expanded: 108\n",
            "  Time: 0.00s\n",
            "Problem 5 (Steps: 10):\n",
            "  State: [1, 6, 2, 5, 0, 3, 4, 7, 8]\n",
            "  Solution: ['u', 'r', 'd', 'l', 'l', 'd', 'r', 'r']\n",
            "  Solution Length: 8\n",
            "  Nodes Expanded: 16\n",
            "  Time: 0.00s\n",
            "Problem 6 (Steps: 10):\n",
            "  State: [0, 2, 5, 1, 7, 3, 4, 8, 6]\n",
            "  Solution: ['r', 'r', 'd', 'd', 'l', 'u', 'u', 'l', 'd', 'd', 'r', 'r']\n",
            "  Solution Length: 12\n",
            "  Nodes Expanded: 103\n",
            "  Time: 0.00s\n",
            "Problem 7 (Steps: 20):\n",
            "  State: [2, 5, 3, 1, 6, 8, 4, 7, 0]\n",
            "  Solution: ['u', 'l', 'u', 'l', 'd', 'd', 'r', 'r']\n",
            "  Solution Length: 8\n",
            "  Nodes Expanded: 9\n",
            "  Time: 0.00s\n",
            "Problem 8 (Steps: 20):\n",
            "  State: [3, 6, 4, 2, 0, 5, 1, 7, 8]\n",
            "  Solution: ['r', 'u', 'l', 'l', 'd', 'd', 'r', 'u', 'r', 'u', 'l', 'l', 'd', 'r', 'd', 'r']\n",
            "  Solution Length: 16\n",
            "  Nodes Expanded: 593\n",
            "  Time: 0.01s\n",
            "Problem 9 (Steps: 20):\n",
            "  State: [6, 2, 8, 1, 0, 7, 4, 5, 3]\n",
            "  Solution: ['d', 'r', 'u', 'u', 'l', 'l', 'd', 'r', 'd', 'r', 'u', 'l', 'u', 'r', 'd', 'l', 'l', 'd', 'r', 'r']\n",
            "  Solution Length: 20\n",
            "  Nodes Expanded: 3846\n",
            "  Time: 0.11s\n",
            "Problem 10 (Steps: 40):\n",
            "  State: [0, 7, 4, 3, 6, 2, 1, 8, 5]\n",
            "  Solution: ['d', 'd', 'r', 'u', 'u', 'l', 'd', 'r', 'r', 'u', 'l', 'd', 'r', 'd', 'l', 'l', 'u', 'r', 'r', 'd']\n",
            "  Solution Length: 20\n",
            "  Nodes Expanded: 2845\n",
            "  Time: 0.04s\n",
            "Problem 11 (Steps: 40):\n",
            "  State: [5, 6, 4, 2, 1, 7, 8, 3, 0]\n",
            "  Solution: ['l', 'u', 'u', 'l', 'd', 'd', 'r', 'u', 'r', 'd', 'l', 'u', 'l', 'd', 'r', 'u', 'u', 'r', 'd', 'l', 'u', 'l', 'd', 'r', 'r', 'd']\n",
            "  Solution Length: 26\n",
            "  Nodes Expanded: 38594\n",
            "  Time: 0.78s\n",
            "Problem 12 (Steps: 40):\n",
            "  State: [8, 3, 6, 4, 5, 1, 7, 2, 0]\n",
            "  Solution: ['l', 'u', 'r', 'u', 'l', 'd', 'd', 'r', 'u', 'l', 'd', 'l', 'u', 'u', 'r', 'd', 'l', 'd', 'r', 'u', 'r', 'd']\n",
            "  Solution Length: 22\n",
            "  Nodes Expanded: 8012\n",
            "  Time: 0.12s\n",
            "Problem 13 (Steps: 80):\n",
            "  State: [5, 4, 1, 7, 2, 8, 0, 3, 6]\n",
            "  Solution: ['r', 'r', 'u', 'l', 'd', 'l', 'u', 'u', 'r', 'r', 'd', 'l', 'd', 'r', 'u', 'l', 'l', 'u', 'r', 'r', 'd', 'd']\n",
            "  Solution Length: 22\n",
            "  Nodes Expanded: 8037\n",
            "  Time: 0.11s\n",
            "Problem 14 (Steps: 80):\n",
            "  State: [8, 4, 7, 2, 0, 6, 1, 5, 3]\n",
            "  Solution: ['r', 'd', 'l', 'u', 'u', 'r', 'd', 'd', 'l', 'u', 'u', 'l', 'd', 'd', 'r', 'u', 'u', 'l', 'd', 'd', 'r', 'u', 'r', 'd']\n",
            "  Solution Length: 24\n",
            "  Nodes Expanded: 21274\n",
            "  Time: 0.38s\n",
            "Problem 15 (Steps: 80):\n",
            "  State: [3, 2, 0, 5, 6, 4, 1, 7, 8]\n",
            "  Solution: ['l', 'd', 'l', 'd', 'r', 'u', 'r', 'u', 'l', 'l', 'd', 'r', 'r', 'u', 'l', 'd', 'd', 'r']\n",
            "  Solution Length: 18\n",
            "  Nodes Expanded: 1264\n",
            "  Time: 0.02s\n",
            "\n",
            "A* Manhattan Results:\n",
            "Problem 1 (Steps: 5):\n",
            "  State: [2, 0, 3, 1, 4, 6, 7, 5, 8]\n",
            "  Solution: ['l', 'd', 'r', 'd', 'r']\n",
            "  Solution Length: 5\n",
            "  Nodes Expanded: 5\n",
            "  Time: 0.00s\n",
            "Problem 2 (Steps: 5):\n",
            "  State: [1, 2, 3, 5, 7, 0, 4, 8, 6]\n",
            "  Solution: ['d', 'l', 'u', 'l', 'd', 'r', 'r']\n",
            "  Solution Length: 7\n",
            "  Nodes Expanded: 11\n",
            "  Time: 0.00s\n",
            "Problem 3 (Steps: 5):\n",
            "  State: [2, 3, 6, 1, 5, 0, 4, 7, 8]\n",
            "  Solution: ['u', 'l', 'l', 'd', 'd', 'r', 'r']\n",
            "  Solution Length: 7\n",
            "  Nodes Expanded: 7\n",
            "  Time: 0.00s\n",
            "Problem 4 (Steps: 10):\n",
            "  State: [2, 3, 6, 1, 0, 7, 5, 4, 8]\n",
            "  Solution: ['r', 'u', 'l', 'l', 'd', 'r', 'd', 'l', 'u', 'r', 'd', 'r']\n",
            "  Solution Length: 12\n",
            "  Nodes Expanded: 29\n",
            "  Time: 0.00s\n",
            "Problem 5 (Steps: 10):\n",
            "  State: [1, 6, 2, 5, 0, 3, 4, 7, 8]\n",
            "  Solution: ['u', 'r', 'd', 'l', 'l', 'd', 'r', 'r']\n",
            "  Solution Length: 8\n",
            "  Nodes Expanded: 12\n",
            "  Time: 0.00s\n",
            "Problem 6 (Steps: 10):\n",
            "  State: [0, 2, 5, 1, 7, 3, 4, 8, 6]\n",
            "  Solution: ['r', 'r', 'd', 'd', 'l', 'u', 'u', 'l', 'd', 'd', 'r', 'r']\n",
            "  Solution Length: 12\n",
            "  Nodes Expanded: 52\n",
            "  Time: 0.00s\n",
            "Problem 7 (Steps: 20):\n",
            "  State: [2, 5, 3, 1, 6, 8, 4, 7, 0]\n",
            "  Solution: ['u', 'l', 'u', 'l', 'd', 'd', 'r', 'r']\n",
            "  Solution Length: 8\n",
            "  Nodes Expanded: 8\n",
            "  Time: 0.00s\n",
            "Problem 8 (Steps: 20):\n",
            "  State: [3, 6, 4, 2, 0, 5, 1, 7, 8]\n",
            "  Solution: ['r', 'u', 'l', 'l', 'd', 'd', 'r', 'u', 'r', 'u', 'l', 'l', 'd', 'r', 'd', 'r']\n",
            "  Solution Length: 16\n",
            "  Nodes Expanded: 98\n",
            "  Time: 0.00s\n",
            "Problem 9 (Steps: 20):\n",
            "  State: [6, 2, 8, 1, 0, 7, 4, 5, 3]\n",
            "  Solution: ['d', 'r', 'u', 'u', 'l', 'l', 'd', 'r', 'd', 'r', 'u', 'l', 'u', 'r', 'd', 'l', 'l', 'd', 'r', 'r']\n",
            "  Solution Length: 20\n",
            "  Nodes Expanded: 373\n",
            "  Time: 0.01s\n",
            "Problem 10 (Steps: 40):\n",
            "  State: [0, 7, 4, 3, 6, 2, 1, 8, 5]\n",
            "  Solution: ['d', 'd', 'r', 'u', 'u', 'l', 'd', 'r', 'r', 'u', 'l', 'd', 'r', 'd', 'l', 'l', 'u', 'r', 'r', 'd']\n",
            "  Solution Length: 20\n",
            "  Nodes Expanded: 240\n",
            "  Time: 0.00s\n",
            "Problem 11 (Steps: 40):\n",
            "  State: [5, 6, 4, 2, 1, 7, 8, 3, 0]\n",
            "  Solution: ['l', 'u', 'u', 'l', 'd', 'd', 'r', 'u', 'r', 'd', 'l', 'u', 'l', 'd', 'r', 'u', 'u', 'r', 'd', 'l', 'u', 'l', 'd', 'r', 'r', 'd']\n",
            "  Solution Length: 26\n",
            "  Nodes Expanded: 4152\n",
            "  Time: 0.13s\n",
            "Problem 12 (Steps: 40):\n",
            "  State: [8, 3, 6, 4, 5, 1, 7, 2, 0]\n",
            "  Solution: ['l', 'u', 'r', 'u', 'l', 'd', 'd', 'r', 'u', 'l', 'd', 'l', 'u', 'u', 'r', 'd', 'l', 'd', 'r', 'u', 'r', 'd']\n",
            "  Solution Length: 22\n",
            "  Nodes Expanded: 892\n",
            "  Time: 0.02s\n",
            "Problem 13 (Steps: 80):\n",
            "  State: [5, 4, 1, 7, 2, 8, 0, 3, 6]\n",
            "  Solution: ['r', 'r', 'u', 'l', 'd', 'l', 'u', 'u', 'r', 'r', 'd', 'l', 'd', 'r', 'u', 'l', 'l', 'u', 'r', 'r', 'd', 'd']\n",
            "  Solution Length: 22\n",
            "  Nodes Expanded: 993\n",
            "  Time: 0.02s\n",
            "Problem 14 (Steps: 80):\n",
            "  State: [8, 4, 7, 2, 0, 6, 1, 5, 3]\n",
            "  Solution: ['r', 'd', 'l', 'u', 'u', 'r', 'd', 'd', 'l', 'u', 'u', 'l', 'd', 'd', 'r', 'u', 'u', 'l', 'd', 'd', 'r', 'u', 'r', 'd']\n",
            "  Solution Length: 24\n",
            "  Nodes Expanded: 1486\n",
            "  Time: 0.03s\n",
            "Problem 15 (Steps: 80):\n",
            "  State: [3, 2, 0, 5, 6, 4, 1, 7, 8]\n",
            "  Solution: ['l', 'd', 'l', 'd', 'r', 'u', 'r', 'u', 'l', 'l', 'd', 'r', 'r', 'u', 'l', 'd', 'd', 'r']\n",
            "  Solution Length: 18\n",
            "  Nodes Expanded: 209\n",
            "  Time: 0.00s\n",
            "\n",
            "=== 4x4 RESULTS ===\n",
            "\n",
            "BFS Results:\n",
            "Problem 1 (Steps: 5):\n",
            "  State: [1, 2, 3, 4, 5, 6, 7, 8, 9, 10, 15, 0, 13, 14, 12, 11]\n",
            "  Solution: ['d', 'l', 'u', 'r', 'd']\n",
            "  Solution Length: 5\n",
            "  Nodes Expanded: 36\n",
            "  Time: 0.00s\n",
            "Problem 2 (Steps: 5):\n",
            "  State: [1, 0, 3, 4, 5, 2, 6, 8, 9, 10, 7, 12, 13, 14, 11, 15]\n",
            "  Solution: ['d', 'r', 'd', 'd', 'r']\n",
            "  Solution Length: 5\n",
            "  Nodes Expanded: 36\n",
            "  Time: 0.00s\n",
            "Problem 3 (Steps: 5):\n",
            "  State: [1, 0, 3, 4, 5, 2, 7, 8, 9, 6, 10, 11, 13, 14, 15, 12]\n",
            "  Solution: ['d', 'd', 'r', 'r', 'd']\n",
            "  Solution Length: 5\n",
            "  Nodes Expanded: 30\n",
            "  Time: 0.00s\n",
            "Problem 4 (Steps: 10):\n",
            "  State: [1, 2, 3, 4, 6, 9, 7, 8, 5, 10, 0, 12, 13, 14, 11, 15]\n",
            "  Solution: ['l', 'u', 'l', 'd', 'r', 'r', 'd', 'r']\n",
            "  Solution Length: 8\n",
            "  Nodes Expanded: 543\n",
            "  Time: 0.00s\n",
            "Problem 5 (Steps: 10):\n",
            "  State: [5, 1, 2, 3, 9, 6, 7, 4, 13, 10, 11, 8, 14, 0, 15, 12]\n",
            "  Solution: ['l', 'u', 'u', 'u', 'r', 'r', 'r', 'd', 'd', 'd']\n",
            "  Solution Length: 10\n",
            "  Nodes Expanded: 1768\n",
            "  Time: 0.01s\n",
            "Problem 6 (Steps: 10):\n",
            "  State: [1, 2, 3, 4, 6, 10, 7, 8, 5, 13, 0, 12, 9, 14, 11, 15]\n",
            "  Solution: ['d', 'l', 'u', 'u', 'l', 'd', 'd', 'r', 'r', 'r']\n",
            "  Solution Length: 10\n",
            "  Nodes Expanded: 1991\n",
            "  Time: 0.02s\n",
            "Problem 7 (Steps: 20):\n",
            "  State: [0, 2, 8, 3, 1, 5, 6, 4, 9, 10, 11, 15, 13, 14, 7, 12]\n",
            "  Solution: None\n",
            "  Solution Length: None\n",
            "  Nodes Expanded: 500001\n",
            "  Time: 53.61s\n",
            "Problem 8 (Steps: 20):\n",
            "  State: [1, 2, 0, 3, 5, 11, 8, 4, 10, 7, 6, 15, 9, 13, 12, 14]\n",
            "  Solution: None\n",
            "  Solution Length: None\n",
            "  Nodes Expanded: 500001\n",
            "  Time: 53.86s\n",
            "Problem 9 (Steps: 20):\n",
            "  State: [5, 1, 0, 3, 9, 6, 8, 4, 10, 2, 12, 11, 13, 14, 7, 15]\n",
            "  Solution: None\n",
            "  Solution Length: None\n",
            "  Nodes Expanded: 500001\n",
            "  Time: 53.24s\n",
            "Problem 10 (Steps: 40):\n",
            "  State: [2, 10, 7, 3, 1, 6, 13, 0, 9, 14, 15, 4, 5, 11, 12, 8]\n",
            "  Solution: None\n",
            "  Solution Length: None\n",
            "  Nodes Expanded: 500001\n",
            "  Time: 53.48s\n",
            "Problem 11 (Steps: 40):\n",
            "  State: [4, 6, 7, 8, 3, 9, 14, 12, 5, 2, 1, 11, 10, 0, 13, 15]\n",
            "  Solution: None\n",
            "  Solution Length: None\n",
            "  Nodes Expanded: 500001\n",
            "  Time: 53.00s\n",
            "Problem 12 (Steps: 40):\n",
            "  State: [1, 3, 4, 8, 5, 2, 12, 13, 7, 10, 0, 11, 14, 9, 6, 15]\n",
            "  Solution: None\n",
            "  Solution Length: None\n",
            "  Nodes Expanded: 500001\n",
            "  Time: 52.43s\n",
            "Problem 13 (Steps: 80):\n",
            "  State: [4, 3, 7, 8, 6, 9, 5, 1, 0, 13, 14, 15, 10, 11, 2, 12]\n",
            "  Solution: None\n",
            "  Solution Length: None\n",
            "  Nodes Expanded: 500001\n",
            "  Time: 53.33s\n",
            "Problem 14 (Steps: 80):\n",
            "  State: [1, 2, 12, 6, 9, 14, 11, 7, 3, 15, 0, 4, 5, 10, 13, 8]\n",
            "  Solution: None\n",
            "  Solution Length: None\n",
            "  Nodes Expanded: 500001\n",
            "  Time: 51.59s\n",
            "Problem 15 (Steps: 80):\n",
            "  State: [14, 5, 0, 6, 8, 4, 3, 12, 10, 1, 9, 2, 13, 11, 15, 7]\n",
            "  Solution: None\n",
            "  Solution Length: None\n",
            "  Nodes Expanded: 500001\n",
            "  Time: 52.65s\n",
            "\n",
            "A* OutOfPlace Results:\n",
            "Problem 1 (Steps: 5):\n",
            "  State: [1, 2, 3, 4, 5, 6, 7, 8, 9, 10, 15, 0, 13, 14, 12, 11]\n",
            "  Solution: ['d', 'l', 'u', 'r', 'd']\n",
            "  Solution Length: 5\n",
            "  Nodes Expanded: 8\n",
            "  Time: 0.00s\n",
            "Problem 2 (Steps: 5):\n",
            "  State: [1, 0, 3, 4, 5, 2, 6, 8, 9, 10, 7, 12, 13, 14, 11, 15]\n",
            "  Solution: ['d', 'r', 'd', 'd', 'r']\n",
            "  Solution Length: 5\n",
            "  Nodes Expanded: 5\n",
            "  Time: 0.00s\n",
            "Problem 3 (Steps: 5):\n",
            "  State: [1, 0, 3, 4, 5, 2, 7, 8, 9, 6, 10, 11, 13, 14, 15, 12]\n",
            "  Solution: ['d', 'd', 'r', 'r', 'd']\n",
            "  Solution Length: 5\n",
            "  Nodes Expanded: 5\n",
            "  Time: 0.00s\n",
            "Problem 4 (Steps: 10):\n",
            "  State: [1, 2, 3, 4, 6, 9, 7, 8, 5, 10, 0, 12, 13, 14, 11, 15]\n",
            "  Solution: ['l', 'u', 'l', 'd', 'r', 'r', 'd', 'r']\n",
            "  Solution Length: 8\n",
            "  Nodes Expanded: 19\n",
            "  Time: 0.00s\n",
            "Problem 5 (Steps: 10):\n",
            "  State: [5, 1, 2, 3, 9, 6, 7, 4, 13, 10, 11, 8, 14, 0, 15, 12]\n",
            "  Solution: ['l', 'u', 'u', 'u', 'r', 'r', 'r', 'd', 'd', 'd']\n",
            "  Solution Length: 10\n",
            "  Nodes Expanded: 10\n",
            "  Time: 0.00s\n",
            "Problem 6 (Steps: 10):\n",
            "  State: [1, 2, 3, 4, 6, 10, 7, 8, 5, 13, 0, 12, 9, 14, 11, 15]\n",
            "  Solution: ['d', 'l', 'u', 'u', 'l', 'd', 'd', 'r', 'r', 'r']\n",
            "  Solution Length: 10\n",
            "  Nodes Expanded: 34\n",
            "  Time: 0.00s\n",
            "Problem 7 (Steps: 20):\n",
            "  State: [0, 2, 8, 3, 1, 5, 6, 4, 9, 10, 11, 15, 13, 14, 7, 12]\n",
            "  Solution: ['d', 'r', 'r', 'u', 'r', 'd', 'd', 'l', 'd', 'r', 'u', 'u', 'l', 'd', 'd', 'r', 'u', 'l', 'd', 'r']\n",
            "  Solution Length: 20\n",
            "  Nodes Expanded: 4292\n",
            "  Time: 0.13s\n",
            "Problem 8 (Steps: 20):\n",
            "  State: [1, 2, 0, 3, 5, 11, 8, 4, 10, 7, 6, 15, 9, 13, 12, 14]\n",
            "  Solution: ['r', 'd', 'l', 'l', 'd', 'r', 'd', 'r', 'u', 'l', 'u', 'l', 'd', 'l', 'd', 'r', 'r', 'r']\n",
            "  Solution Length: 18\n",
            "  Nodes Expanded: 614\n",
            "  Time: 0.02s\n",
            "Problem 9 (Steps: 20):\n",
            "  State: [5, 1, 0, 3, 9, 6, 8, 4, 10, 2, 12, 11, 13, 14, 7, 15]\n",
            "  Solution: ['r', 'd', 'd', 'l', 'd', 'r', 'u', 'u', 'l', 'l', 'd', 'l', 'u', 'u', 'r', 'd', 'r', 'd', 'r', 'd']\n",
            "  Solution Length: 20\n",
            "  Nodes Expanded: 2468\n",
            "  Time: 0.07s\n",
            "Problem 10 (Steps: 40):\n",
            "  State: [2, 10, 7, 3, 1, 6, 13, 0, 9, 14, 15, 4, 5, 11, 12, 8]\n",
            "  Solution: None\n",
            "  Solution Length: None\n",
            "  Nodes Expanded: 500001\n",
            "  Time: 16.43s\n",
            "Problem 11 (Steps: 40):\n",
            "  State: [4, 6, 7, 8, 3, 9, 14, 12, 5, 2, 1, 11, 10, 0, 13, 15]\n",
            "  Solution: None\n",
            "  Solution Length: None\n",
            "  Nodes Expanded: 500001\n",
            "  Time: 17.03s\n",
            "Problem 12 (Steps: 40):\n",
            "  State: [1, 3, 4, 8, 5, 2, 12, 13, 7, 10, 0, 11, 14, 9, 6, 15]\n",
            "  Solution: None\n",
            "  Solution Length: None\n",
            "  Nodes Expanded: 500001\n",
            "  Time: 18.05s\n",
            "Problem 13 (Steps: 80):\n",
            "  State: [4, 3, 7, 8, 6, 9, 5, 1, 0, 13, 14, 15, 10, 11, 2, 12]\n",
            "  Solution: None\n",
            "  Solution Length: None\n",
            "  Nodes Expanded: 500001\n",
            "  Time: 17.23s\n",
            "Problem 14 (Steps: 80):\n",
            "  State: [1, 2, 12, 6, 9, 14, 11, 7, 3, 15, 0, 4, 5, 10, 13, 8]\n",
            "  Solution: None\n",
            "  Solution Length: None\n",
            "  Nodes Expanded: 500001\n",
            "  Time: 16.27s\n",
            "Problem 15 (Steps: 80):\n",
            "  State: [14, 5, 0, 6, 8, 4, 3, 12, 10, 1, 9, 2, 13, 11, 15, 7]\n",
            "  Solution: None\n",
            "  Solution Length: None\n",
            "  Nodes Expanded: 500001\n",
            "  Time: 18.53s\n",
            "\n",
            "A* Manhattan Results:\n",
            "Problem 1 (Steps: 5):\n",
            "  State: [1, 2, 3, 4, 5, 6, 7, 8, 9, 10, 15, 0, 13, 14, 12, 11]\n",
            "  Solution: ['d', 'l', 'u', 'r', 'd']\n",
            "  Solution Length: 5\n",
            "  Nodes Expanded: 5\n",
            "  Time: 0.00s\n",
            "Problem 2 (Steps: 5):\n",
            "  State: [1, 0, 3, 4, 5, 2, 6, 8, 9, 10, 7, 12, 13, 14, 11, 15]\n",
            "  Solution: ['d', 'r', 'd', 'd', 'r']\n",
            "  Solution Length: 5\n",
            "  Nodes Expanded: 5\n",
            "  Time: 0.00s\n",
            "Problem 3 (Steps: 5):\n",
            "  State: [1, 0, 3, 4, 5, 2, 7, 8, 9, 6, 10, 11, 13, 14, 15, 12]\n",
            "  Solution: ['d', 'd', 'r', 'r', 'd']\n",
            "  Solution Length: 5\n",
            "  Nodes Expanded: 5\n",
            "  Time: 0.00s\n",
            "Problem 4 (Steps: 10):\n",
            "  State: [1, 2, 3, 4, 6, 9, 7, 8, 5, 10, 0, 12, 13, 14, 11, 15]\n",
            "  Solution: ['l', 'u', 'l', 'd', 'r', 'r', 'd', 'r']\n",
            "  Solution Length: 8\n",
            "  Nodes Expanded: 14\n",
            "  Time: 0.00s\n",
            "Problem 5 (Steps: 10):\n",
            "  State: [5, 1, 2, 3, 9, 6, 7, 4, 13, 10, 11, 8, 14, 0, 15, 12]\n",
            "  Solution: ['l', 'u', 'u', 'u', 'r', 'r', 'r', 'd', 'd', 'd']\n",
            "  Solution Length: 10\n",
            "  Nodes Expanded: 10\n",
            "  Time: 0.00s\n",
            "Problem 6 (Steps: 10):\n",
            "  State: [1, 2, 3, 4, 6, 10, 7, 8, 5, 13, 0, 12, 9, 14, 11, 15]\n",
            "  Solution: ['d', 'l', 'u', 'u', 'l', 'd', 'd', 'r', 'r', 'r']\n",
            "  Solution Length: 10\n",
            "  Nodes Expanded: 19\n",
            "  Time: 0.00s\n",
            "Problem 7 (Steps: 20):\n",
            "  State: [0, 2, 8, 3, 1, 5, 6, 4, 9, 10, 11, 15, 13, 14, 7, 12]\n",
            "  Solution: ['d', 'r', 'r', 'u', 'r', 'd', 'd', 'l', 'd', 'r', 'u', 'u', 'l', 'd', 'd', 'r', 'u', 'l', 'd', 'r']\n",
            "  Solution Length: 20\n",
            "  Nodes Expanded: 613\n",
            "  Time: 0.02s\n",
            "Problem 8 (Steps: 20):\n",
            "  State: [1, 2, 0, 3, 5, 11, 8, 4, 10, 7, 6, 15, 9, 13, 12, 14]\n",
            "  Solution: ['r', 'd', 'l', 'd', 'd', 'r', 'u', 'l', 'l', 'u', 'r', 'd', 'l', 'l', 'd', 'r', 'r', 'r']\n",
            "  Solution Length: 18\n",
            "  Nodes Expanded: 54\n",
            "  Time: 0.00s\n",
            "Problem 9 (Steps: 20):\n",
            "  State: [5, 1, 0, 3, 9, 6, 8, 4, 10, 2, 12, 11, 13, 14, 7, 15]\n",
            "  Solution: ['r', 'd', 'd', 'l', 'd', 'r', 'u', 'u', 'l', 'l', 'd', 'l', 'u', 'u', 'r', 'd', 'r', 'd', 'r', 'd']\n",
            "  Solution Length: 20\n",
            "  Nodes Expanded: 284\n",
            "  Time: 0.01s\n",
            "Problem 10 (Steps: 40):\n",
            "  State: [2, 10, 7, 3, 1, 6, 13, 0, 9, 14, 15, 4, 5, 11, 12, 8]\n",
            "  Solution: ['d', 'd', 'l', 'u', 'u', 'u', 'r', 'd', 'd', 'd', 'l', 'l', 'u', 'l', 'd', 'r', 'u', 'r', 'u', 'l', 'u', 'l', 'd', 'd', 'r', 'd', 'l', 'u', 'r', 'u', 'r', 'd', 'd', 'r']\n",
            "  Solution Length: 34\n",
            "  Nodes Expanded: 47120\n",
            "  Time: 1.81s\n",
            "Problem 11 (Steps: 40):\n",
            "  State: [4, 6, 7, 8, 3, 9, 14, 12, 5, 2, 1, 11, 10, 0, 13, 15]\n",
            "  Solution: ['l', 'u', 'r', 'r', 'u', 'l', 'u', 'l', 'd', 'd', 'r', 'd', 'r', 'u', 'u', 'u', 'l', 'l', 'd', 'd', 'd', 'r', 'u', 'r', 'r', 'u', 'u', 'l', 'l', 'l', 'd', 'd', 'r', 'd', 'r', 'r']\n",
            "  Solution Length: 36\n",
            "  Nodes Expanded: 17400\n",
            "  Time: 0.67s\n",
            "Problem 12 (Steps: 40):\n",
            "  State: [1, 3, 4, 8, 5, 2, 12, 13, 7, 10, 0, 11, 14, 9, 6, 15]\n",
            "  Solution: ['u', 'r', 'd', 'l', 'd', 'r', 'u', 'u', 'u', 'l', 'l', 'd', 'd', 'l', 'u', 'r', 'r', 'd', 'l', 'u', 'l', 'd', 'r', 'd', 'l', 'u', 'r', 'u', 'r', 'd', 'r', 'd']\n",
            "  Solution Length: 32\n",
            "  Nodes Expanded: 29668\n",
            "  Time: 1.11s\n",
            "Problem 13 (Steps: 80):\n",
            "  State: [4, 3, 7, 8, 6, 9, 5, 1, 0, 13, 14, 15, 10, 11, 2, 12]\n",
            "  Solution: None\n",
            "  Solution Length: None\n",
            "  Nodes Expanded: 500001\n",
            "  Time: 26.00s\n",
            "Problem 14 (Steps: 80):\n",
            "  State: [1, 2, 12, 6, 9, 14, 11, 7, 3, 15, 0, 4, 5, 10, 13, 8]\n",
            "  Solution: ['l', 'd', 'r', 'u', 'u', 'u', 'r', 'd', 'd', 'd', 'l', 'u', 'u', 'u', 'r', 'd', 'd', 'l', 'l', 'u', 'l', 'd', 'd', 'r', 'u', 'u', 'l', 'u', 'r', 'd', 'r', 'u', 'l', 'l', 'd', 'd', 'r', 'r', 'd', 'r']\n",
            "  Solution Length: 40\n",
            "  Nodes Expanded: 408805\n",
            "  Time: 20.85s\n",
            "Problem 15 (Steps: 80):\n",
            "  State: [14, 5, 0, 6, 8, 4, 3, 12, 10, 1, 9, 2, 13, 11, 15, 7]\n",
            "  Solution: ['d', 'l', 'd', 'r', 'r', 'd', 'l', 'l', 'l', 'u', 'u', 'u', 'r', 'd', 'l', 'd', 'r', 'u', 'l', 'd', 'd', 'r', 'u', 'r', 'r', 'u', 'l', 'l', 'd', 'l', 'u', 'u', 'r', 'r', 'r', 'd', 'l', 'u', 'l', 'd', 'r', 'd', 'd', 'r']\n",
            "  Solution Length: 44\n",
            "  Nodes Expanded: 457107\n",
            "  Time: 24.10s\n"
          ]
        }
      ]
    },
    {
      "cell_type": "markdown",
      "source": [
        "# Results\n",
        "###3x3 Puzzle Performance\n",
        "The 3x3 puzzle was successfully solved by all algorithms.\n",
        "\n",
        "- BFS: solved all problems but used more nodes\n",
        "- A* with Out-of-Place: used less nodes than BFS\n",
        "- A* with Manhattan Distance: Most efficient using even less nodes\n",
        "\n",
        "###4x4 Puzzle Performance\n",
        "The 4x4 puzzle showed different results:\n",
        "\n",
        "- BFS: solved problems up to 10 random steps failed on all problems with 20+ steps (hitting my limit)\n",
        "- A* with Out-of-Place: solved problems up to 20 steps, failed on 40+ step problems\n",
        "- A* with Manhattan Distance: Most effective solving problems up to 40 steps, still struggled with 80 step problems\n",
        "\n",
        "# Conclusion\n",
        "\n",
        "- The jump from 3x3 to 4x4 shows how search complexity grows with problem size. The 3x3 puzzle has 181k states while the 4x4 has 10'000B states.\n",
        "- Informed search (A*) outperforms uninformed search (BFS), with Manhattan Distance consistently outperforming Out-of-Place.\n",
        "- BFS becomes completely impractical for larger problems\n",
        "\n",
        "This us how AI systems need to be effective when dealing with large data and spaces, and why general problem solving is so hard for AI."
      ],
      "metadata": {
        "id": "CSUG_o2TUwLR"
      }
    }
  ]
}